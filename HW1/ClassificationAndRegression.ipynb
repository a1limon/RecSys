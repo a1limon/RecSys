{
 "cells": [
  {
   "cell_type": "code",
   "execution_count": 1,
   "metadata": {},
   "outputs": [],
   "source": [
    "import numpy as np\n",
    "import pandas as pd\n",
    "import os\n",
    "%matplotlib inline\n",
    "import matplotlib.pyplot as plt\n",
    "from sklearn.metrics import mean_squared_error as MSE\n",
    "from sklearn.model_selection import train_test_split"
   ]
  },
  {
   "cell_type": "markdown",
   "metadata": {},
   "source": [
    "# Regression"
   ]
  },
  {
   "cell_type": "code",
   "execution_count": 2,
   "metadata": {
    "scrolled": true
   },
   "outputs": [],
   "source": [
    "data = os.path.join(\"data\", \"fantasy_10000.json\")\n",
    "fantasy_df = pd.read_json(data, lines = True)"
   ]
  },
  {
   "cell_type": "markdown",
   "metadata": {},
   "source": [
    "## 1. What is the distribution of ratings and review lengths in the dataset? Report the number of 1-, 2-, 3-star (etc.) ratings, and show the relationship with length (e.g. via a scatterplot) (1 mark)."
   ]
  },
  {
   "cell_type": "code",
   "execution_count": 3,
   "metadata": {},
   "outputs": [
    {
     "name": "stdout",
     "output_type": "stream",
     "text": [
      "4    3265\n",
      "5    3232\n",
      "3    2113\n",
      "2     778\n",
      "0     326\n",
      "1     286\n",
      "Name: rating, dtype: int64\n"
     ]
    }
   ],
   "source": [
    "ratings_counts = fantasy_df['rating'].value_counts()\n",
    "print(ratings_counts)"
   ]
  },
  {
   "cell_type": "code",
   "execution_count": 4,
   "metadata": {},
   "outputs": [
    {
     "name": "stdout",
     "output_type": "stream",
     "text": [
      "0       2086\n",
      "1       1521\n",
      "2       1519\n",
      "3       1791\n",
      "4       1762\n",
      "        ... \n",
      "9995    3174\n",
      "9996     594\n",
      "9997      95\n",
      "9998       3\n",
      "9999     852\n",
      "Name: review_text, Length: 10000, dtype: int64\n"
     ]
    }
   ],
   "source": [
    "len_reviews= fantasy_df['review_text'].str.len()\n",
    "print(len_reviews)"
   ]
  },
  {
   "cell_type": "code",
   "execution_count": 5,
   "metadata": {},
   "outputs": [
    {
     "data": {
      "text/plain": [
       "Text(0, 0.5, 'review length')"
      ]
     },
     "execution_count": 5,
     "metadata": {},
     "output_type": "execute_result"
    },
    {
     "data": {
      "image/png": "[encoded data removed]",
      "text/plain": [
       "<Figure size 432x288 with 1 Axes>"
      ]
     },
     "metadata": {
      "needs_background": "light"
     },
     "output_type": "display_data"
    }
   ],
   "source": [
    "plt.scatter(fantasy_df['rating'], len_reviews)\n",
    "plt.xlabel(\"rating\")\n",
    "plt.ylabel(\"review length\")"
   ]
  },
  {
   "cell_type": "markdown",
   "metadata": {},
   "source": [
    "## 2. Train a simple predictor that estimates rating from review length, i.e., star rating ' θ0 + θ1 × [review length in characters] Report the values θ0 and θ1, and the Mean Squared Error of your predictor (on the entire dataset) (1 mark)."
   ]
  },
  {
   "cell_type": "code",
   "execution_count": 6,
   "metadata": {},
   "outputs": [],
   "source": [
    "# star rating ~ theta_0 + theta_1 * [review length in characters]"
   ]
  },
  {
   "cell_type": "code",
   "execution_count": null,
   "metadata": {},
   "outputs": [],
   "source": []
  },
  {
   "cell_type": "code",
   "execution_count": 7,
   "metadata": {},
   "outputs": [
    {
     "name": "stderr",
     "output_type": "stream",
     "text": [
      "<ipython-input-7-dd6889909d97>:4: FutureWarning: `rcond` parameter will change to the default of machine precision times ``max(M, N)`` where M and N are the input matrix dimensions.\n",
      "To use the future default and silence this warning we advise to pass `rcond=None`, to keep using the old, explicitly pass `rcond=-1`.\n",
      "  theta,residuals,rank,s = np.linalg.lstsq(X, y)\n"
     ]
    }
   ],
   "source": [
    "y = fantasy_df['rating'].values\n",
    "x = len_reviews\n",
    "X = np.vstack([np.ones(len(x)),x]).T\n",
    "theta,residuals,rank,s = np.linalg.lstsq(X, y)"
   ]
  },
  {
   "cell_type": "code",
   "execution_count": 8,
   "metadata": {},
   "outputs": [
    {
     "name": "stdout",
     "output_type": "stream",
     "text": [
      "theta_0:  3.685681355016898\n",
      "theta_1:  6.873716748962716e-05\n"
     ]
    }
   ],
   "source": [
    "theta_0, theta_1 = theta[0], theta[1]\n",
    "print(\"theta_0: \",theta_0)\n",
    "print(\"theta_1: \",theta_1)"
   ]
  },
  {
   "cell_type": "code",
   "execution_count": 9,
   "metadata": {},
   "outputs": [],
   "source": [
    "#rating is equal to 3.69 + 6.87e-05*length of review"
   ]
  },
  {
   "cell_type": "code",
   "execution_count": 10,
   "metadata": {},
   "outputs": [
    {
     "data": {
      "text/plain": [
       "array([3.82906709, 3.79023059, 3.79009311, ..., 3.69221139, 3.68588757,\n",
       "       3.74424542])"
      ]
     },
     "execution_count": 10,
     "metadata": {},
     "output_type": "execute_result"
    }
   ],
   "source": [
    "y_pred = theta_0 + theta_1*len_reviews.values\n",
    "y_pred"
   ]
  },
  {
   "cell_type": "markdown",
   "metadata": {},
   "source": [
    "or \"cleaner\" way using sklearn..."
   ]
  },
  {
   "cell_type": "code",
   "execution_count": 11,
   "metadata": {},
   "outputs": [],
   "source": [
    "from sklearn.linear_model import LinearRegression"
   ]
  },
  {
   "cell_type": "code",
   "execution_count": 12,
   "metadata": {},
   "outputs": [],
   "source": [
    "lr = LinearRegression()"
   ]
  },
  {
   "cell_type": "code",
   "execution_count": 13,
   "metadata": {},
   "outputs": [
    {
     "data": {
      "text/plain": [
       "LinearRegression()"
      ]
     },
     "execution_count": 13,
     "metadata": {},
     "output_type": "execute_result"
    }
   ],
   "source": [
    "lr.fit(X, y)"
   ]
  },
  {
   "cell_type": "code",
   "execution_count": 14,
   "metadata": {},
   "outputs": [],
   "source": [
    "y__pred = lr.predict(X)"
   ]
  },
  {
   "cell_type": "code",
   "execution_count": 15,
   "metadata": {},
   "outputs": [
    {
     "data": {
      "text/plain": [
       "array([3.82906709, 3.79023059, 3.79009311, ..., 3.69221139, 3.68588757,\n",
       "       3.74424542])"
      ]
     },
     "execution_count": 15,
     "metadata": {},
     "output_type": "execute_result"
    }
   ],
   "source": [
    "y__pred"
   ]
  },
  {
   "cell_type": "code",
   "execution_count": 16,
   "metadata": {},
   "outputs": [
    {
     "name": "stdout",
     "output_type": "stream",
     "text": [
      "MSE of predictor:  1.5522086622355378\n"
     ]
    }
   ],
   "source": [
    "print(\"MSE of predictor: \", MSE(y, y_pred))"
   ]
  },
  {
   "cell_type": "markdown",
   "metadata": {},
   "source": [
    "## 3. Re-train your predictor so as to include a second feature based on the number of comments, i.e., star rating ' θ0 + θ1 × [length] + θ2 × [number of comments] Report the values of θ0, θ1, and θ2, along with the MSE of the new model. Briefly explain why the coefficient θ1 in this model is different from the one in Question 2."
   ]
  },
  {
   "cell_type": "code",
   "execution_count": 17,
   "metadata": {},
   "outputs": [
    {
     "data": {
      "text/html": [
       "<div>\n",
       "<style scoped>\n",
       "    .dataframe tbody tr th:only-of-type {\n",
       "        vertical-align: middle;\n",
       "    }\n",
       "\n",
       "    .dataframe tbody tr th {\n",
       "        vertical-align: top;\n",
       "    }\n",
       "\n",
       "    .dataframe thead th {\n",
       "        text-align: right;\n",
       "    }\n",
       "</style>\n",
       "<table border=\"1\" class=\"dataframe\">\n",
       "  <thead>\n",
       "    <tr style=\"text-align: right;\">\n",
       "      <th></th>\n",
       "      <th>review_text</th>\n",
       "      <th>n_comments</th>\n",
       "    </tr>\n",
       "  </thead>\n",
       "  <tbody>\n",
       "    <tr>\n",
       "      <th>0</th>\n",
       "      <td>This is a special book. It started slow for ab...</td>\n",
       "      <td>1</td>\n",
       "    </tr>\n",
       "    <tr>\n",
       "      <th>1</th>\n",
       "      <td>A beautiful story. Neil Gaiman is truly a uniq...</td>\n",
       "      <td>1</td>\n",
       "    </tr>\n",
       "    <tr>\n",
       "      <th>2</th>\n",
       "      <td>Mark Watney is a steely-eyed missile man. A ma...</td>\n",
       "      <td>5</td>\n",
       "    </tr>\n",
       "    <tr>\n",
       "      <th>3</th>\n",
       "      <td>A fun fast paced book that sucks you in right ...</td>\n",
       "      <td>1</td>\n",
       "    </tr>\n",
       "    <tr>\n",
       "      <th>4</th>\n",
       "      <td>This book has a great premise, and is full of ...</td>\n",
       "      <td>0</td>\n",
       "    </tr>\n",
       "    <tr>\n",
       "      <th>...</th>\n",
       "      <td>...</td>\n",
       "      <td>...</td>\n",
       "    </tr>\n",
       "    <tr>\n",
       "      <th>9995</th>\n",
       "      <td>*I got this book from Netgalley in exchange fo...</td>\n",
       "      <td>0</td>\n",
       "    </tr>\n",
       "    <tr>\n",
       "      <th>9996</th>\n",
       "      <td>I quite enjoyed Carmilla. Obviously, there was...</td>\n",
       "      <td>0</td>\n",
       "    </tr>\n",
       "    <tr>\n",
       "      <th>9997</th>\n",
       "      <td>Hmm... You can't be serious... 2018????? This ...</td>\n",
       "      <td>0</td>\n",
       "    </tr>\n",
       "    <tr>\n",
       "      <th>9998</th>\n",
       "      <td>RTC</td>\n",
       "      <td>0</td>\n",
       "    </tr>\n",
       "    <tr>\n",
       "      <th>9999</th>\n",
       "      <td>This book needs a lot of editing. Word repetit...</td>\n",
       "      <td>0</td>\n",
       "    </tr>\n",
       "  </tbody>\n",
       "</table>\n",
       "<p>10000 rows × 2 columns</p>\n",
       "</div>"
      ],
      "text/plain": [
       "                                            review_text  n_comments\n",
       "0     This is a special book. It started slow for ab...           1\n",
       "1     A beautiful story. Neil Gaiman is truly a uniq...           1\n",
       "2     Mark Watney is a steely-eyed missile man. A ma...           5\n",
       "3     A fun fast paced book that sucks you in right ...           1\n",
       "4     This book has a great premise, and is full of ...           0\n",
       "...                                                 ...         ...\n",
       "9995  *I got this book from Netgalley in exchange fo...           0\n",
       "9996  I quite enjoyed Carmilla. Obviously, there was...           0\n",
       "9997  Hmm... You can't be serious... 2018????? This ...           0\n",
       "9998                                                RTC           0\n",
       "9999  This book needs a lot of editing. Word repetit...           0\n",
       "\n",
       "[10000 rows x 2 columns]"
      ]
     },
     "execution_count": 17,
     "metadata": {},
     "output_type": "execute_result"
    }
   ],
   "source": [
    "df_2 = fantasy_df[['review_text', 'n_comments']]\n",
    "df_2"
   ]
  },
  {
   "cell_type": "code",
   "execution_count": 18,
   "metadata": {},
   "outputs": [
    {
     "name": "stderr",
     "output_type": "stream",
     "text": [
      "<ipython-input-18-973b7a53a8e9>:1: SettingWithCopyWarning: \n",
      "A value is trying to be set on a copy of a slice from a DataFrame.\n",
      "Try using .loc[row_indexer,col_indexer] = value instead\n",
      "\n",
      "See the caveats in the documentation: https://pandas.pydata.org/pandas-docs/stable/user_guide/indexing.html#returning-a-view-versus-a-copy\n",
      "  df_2['len_review_text'] = len_reviews\n",
      "<ipython-input-18-973b7a53a8e9>:2: SettingWithCopyWarning: \n",
      "A value is trying to be set on a copy of a slice from a DataFrame.\n",
      "Try using .loc[row_indexer,col_indexer] = value instead\n",
      "\n",
      "See the caveats in the documentation: https://pandas.pydata.org/pandas-docs/stable/user_guide/indexing.html#returning-a-view-versus-a-copy\n",
      "  df_2['normalized_len_review'] = df_2.len_review_text / df_2.len_review_text.max()\n"
     ]
    },
    {
     "data": {
      "text/html": [
       "<div>\n",
       "<style scoped>\n",
       "    .dataframe tbody tr th:only-of-type {\n",
       "        vertical-align: middle;\n",
       "    }\n",
       "\n",
       "    .dataframe tbody tr th {\n",
       "        vertical-align: top;\n",
       "    }\n",
       "\n",
       "    .dataframe thead th {\n",
       "        text-align: right;\n",
       "    }\n",
       "</style>\n",
       "<table border=\"1\" class=\"dataframe\">\n",
       "  <thead>\n",
       "    <tr style=\"text-align: right;\">\n",
       "      <th></th>\n",
       "      <th>review_text</th>\n",
       "      <th>n_comments</th>\n",
       "      <th>len_review_text</th>\n",
       "      <th>normalized_len_review</th>\n",
       "    </tr>\n",
       "  </thead>\n",
       "  <tbody>\n",
       "    <tr>\n",
       "      <th>0</th>\n",
       "      <td>This is a special book. It started slow for ab...</td>\n",
       "      <td>1</td>\n",
       "      <td>2086</td>\n",
       "      <td>0.145813</td>\n",
       "    </tr>\n",
       "    <tr>\n",
       "      <th>1</th>\n",
       "      <td>A beautiful story. Neil Gaiman is truly a uniq...</td>\n",
       "      <td>1</td>\n",
       "      <td>1521</td>\n",
       "      <td>0.106319</td>\n",
       "    </tr>\n",
       "    <tr>\n",
       "      <th>2</th>\n",
       "      <td>Mark Watney is a steely-eyed missile man. A ma...</td>\n",
       "      <td>5</td>\n",
       "      <td>1519</td>\n",
       "      <td>0.106179</td>\n",
       "    </tr>\n",
       "    <tr>\n",
       "      <th>3</th>\n",
       "      <td>A fun fast paced book that sucks you in right ...</td>\n",
       "      <td>1</td>\n",
       "      <td>1791</td>\n",
       "      <td>0.125192</td>\n",
       "    </tr>\n",
       "    <tr>\n",
       "      <th>4</th>\n",
       "      <td>This book has a great premise, and is full of ...</td>\n",
       "      <td>0</td>\n",
       "      <td>1762</td>\n",
       "      <td>0.123165</td>\n",
       "    </tr>\n",
       "    <tr>\n",
       "      <th>...</th>\n",
       "      <td>...</td>\n",
       "      <td>...</td>\n",
       "      <td>...</td>\n",
       "      <td>...</td>\n",
       "    </tr>\n",
       "    <tr>\n",
       "      <th>9995</th>\n",
       "      <td>*I got this book from Netgalley in exchange fo...</td>\n",
       "      <td>0</td>\n",
       "      <td>3174</td>\n",
       "      <td>0.221865</td>\n",
       "    </tr>\n",
       "    <tr>\n",
       "      <th>9996</th>\n",
       "      <td>I quite enjoyed Carmilla. Obviously, there was...</td>\n",
       "      <td>0</td>\n",
       "      <td>594</td>\n",
       "      <td>0.041521</td>\n",
       "    </tr>\n",
       "    <tr>\n",
       "      <th>9997</th>\n",
       "      <td>Hmm... You can't be serious... 2018????? This ...</td>\n",
       "      <td>0</td>\n",
       "      <td>95</td>\n",
       "      <td>0.006641</td>\n",
       "    </tr>\n",
       "    <tr>\n",
       "      <th>9998</th>\n",
       "      <td>RTC</td>\n",
       "      <td>0</td>\n",
       "      <td>3</td>\n",
       "      <td>0.000210</td>\n",
       "    </tr>\n",
       "    <tr>\n",
       "      <th>9999</th>\n",
       "      <td>This book needs a lot of editing. Word repetit...</td>\n",
       "      <td>0</td>\n",
       "      <td>852</td>\n",
       "      <td>0.059555</td>\n",
       "    </tr>\n",
       "  </tbody>\n",
       "</table>\n",
       "<p>10000 rows × 4 columns</p>\n",
       "</div>"
      ],
      "text/plain": [
       "                                            review_text  n_comments  \\\n",
       "0     This is a special book. It started slow for ab...           1   \n",
       "1     A beautiful story. Neil Gaiman is truly a uniq...           1   \n",
       "2     Mark Watney is a steely-eyed missile man. A ma...           5   \n",
       "3     A fun fast paced book that sucks you in right ...           1   \n",
       "4     This book has a great premise, and is full of ...           0   \n",
       "...                                                 ...         ...   \n",
       "9995  *I got this book from Netgalley in exchange fo...           0   \n",
       "9996  I quite enjoyed Carmilla. Obviously, there was...           0   \n",
       "9997  Hmm... You can't be serious... 2018????? This ...           0   \n",
       "9998                                                RTC           0   \n",
       "9999  This book needs a lot of editing. Word repetit...           0   \n",
       "\n",
       "      len_review_text  normalized_len_review  \n",
       "0                2086               0.145813  \n",
       "1                1521               0.106319  \n",
       "2                1519               0.106179  \n",
       "3                1791               0.125192  \n",
       "4                1762               0.123165  \n",
       "...               ...                    ...  \n",
       "9995             3174               0.221865  \n",
       "9996              594               0.041521  \n",
       "9997               95               0.006641  \n",
       "9998                3               0.000210  \n",
       "9999              852               0.059555  \n",
       "\n",
       "[10000 rows x 4 columns]"
      ]
     },
     "execution_count": 18,
     "metadata": {},
     "output_type": "execute_result"
    }
   ],
   "source": [
    "df_2['len_review_text'] = len_reviews\n",
    "df_2['normalized_len_review'] = df_2.len_review_text / df_2.len_review_text.max()\n",
    "df_2"
   ]
  },
  {
   "cell_type": "code",
   "execution_count": 19,
   "metadata": {},
   "outputs": [
    {
     "name": "stdout",
     "output_type": "stream",
     "text": [
      "[ 3.68916737e+00  7.58407490e-05 -3.27928935e-02]\n"
     ]
    },
    {
     "name": "stderr",
     "output_type": "stream",
     "text": [
      "<ipython-input-19-c342a0a07f7c>:4: FutureWarning: `rcond` parameter will change to the default of machine precision times ``max(M, N)`` where M and N are the input matrix dimensions.\n",
      "To use the future default and silence this warning we advise to pass `rcond=None`, to keep using the old, explicitly pass `rcond=-1`.\n",
      "  theta,residuals,rank,s = np.linalg.lstsq(X_2, y)\n"
     ]
    }
   ],
   "source": [
    "X_2= np.vstack([np.ones(len(x)),df_2.len_review_text, df_2.n_comments]).T\n",
    "X_2\n",
    "\n",
    "theta,residuals,rank,s = np.linalg.lstsq(X_2, y)\n",
    "print(theta)"
   ]
  },
  {
   "cell_type": "code",
   "execution_count": null,
   "metadata": {},
   "outputs": [],
   "source": []
  },
  {
   "cell_type": "code",
   "execution_count": 20,
   "metadata": {},
   "outputs": [
    {
     "name": "stdout",
     "output_type": "stream",
     "text": [
      "theta_0:  3.6891673742900823\n",
      "theta_1:  7.584074903973337e-05\n",
      "theta_2:  -0.0327928935445479\n"
     ]
    }
   ],
   "source": [
    "theta_0, theta_1, theta_2 = theta[0], theta[1], theta[2]\n",
    "print(\"theta_0: \",theta_0)\n",
    "print(\"theta_1: \",theta_1)\n",
    "print(\"theta_2: \",theta_2)\n"
   ]
  },
  {
   "cell_type": "code",
   "execution_count": 21,
   "metadata": {},
   "outputs": [
    {
     "data": {
      "text/plain": [
       "LinearRegression()"
      ]
     },
     "execution_count": 21,
     "metadata": {},
     "output_type": "execute_result"
    }
   ],
   "source": [
    "lr2 = LinearRegression()\n",
    "lr2.fit(X_2, y)"
   ]
  },
  {
   "cell_type": "code",
   "execution_count": 22,
   "metadata": {},
   "outputs": [],
   "source": [
    "y2_pred = lr2.predict(X_2)"
   ]
  },
  {
   "cell_type": "code",
   "execution_count": 23,
   "metadata": {},
   "outputs": [
    {
     "name": "stdout",
     "output_type": "stream",
     "text": [
      "MSE of predictor:  1.5498351692774583\n"
     ]
    }
   ],
   "source": [
    "print(\"MSE of predictor: \", MSE(y, y2_pred))"
   ]
  },
  {
   "cell_type": "markdown",
   "metadata": {},
   "source": [
    "The inclusion of a new parameter changes theta_1, the change, though small, could indicate some collinearity.Also, In Q2 we only have one feature but in Q3 we now have added a feature. Basically we are now taking an extra variable into account in predicting ratings. Depending on how theta_1 changes we can say if this new feature impacted our prediction about ratings."
   ]
  },
  {
   "cell_type": "markdown",
   "metadata": {},
   "source": [
    "## 4. Train a model that fits a polynomial function to estimate ratings based on review length. I.e., star rating ' θ0 + θ1 × [length] + θ2 × [length]**2 + θ3 × [length]**3 \n",
    "## Fit polynomials up to degree five (i.e., including up to [length]**5) and report the MSE of each. Hint: instead of fitting length directly, you can rescale the feature to be between zero and one by dividing by the maximum length in the dataset; this may help to prevent numerical stability issues."
   ]
  },
  {
   "cell_type": "code",
   "execution_count": 24,
   "metadata": {},
   "outputs": [
    {
     "data": {
      "text/html": [
       "<div>\n",
       "<style scoped>\n",
       "    .dataframe tbody tr th:only-of-type {\n",
       "        vertical-align: middle;\n",
       "    }\n",
       "\n",
       "    .dataframe tbody tr th {\n",
       "        vertical-align: top;\n",
       "    }\n",
       "\n",
       "    .dataframe thead th {\n",
       "        text-align: right;\n",
       "    }\n",
       "</style>\n",
       "<table border=\"1\" class=\"dataframe\">\n",
       "  <thead>\n",
       "    <tr style=\"text-align: right;\">\n",
       "      <th></th>\n",
       "      <th>review_text</th>\n",
       "      <th>n_comments</th>\n",
       "      <th>len_review_text</th>\n",
       "      <th>normalized_len_review</th>\n",
       "    </tr>\n",
       "  </thead>\n",
       "  <tbody>\n",
       "    <tr>\n",
       "      <th>0</th>\n",
       "      <td>This is a special book. It started slow for ab...</td>\n",
       "      <td>1</td>\n",
       "      <td>2086</td>\n",
       "      <td>0.145813</td>\n",
       "    </tr>\n",
       "    <tr>\n",
       "      <th>1</th>\n",
       "      <td>A beautiful story. Neil Gaiman is truly a uniq...</td>\n",
       "      <td>1</td>\n",
       "      <td>1521</td>\n",
       "      <td>0.106319</td>\n",
       "    </tr>\n",
       "    <tr>\n",
       "      <th>2</th>\n",
       "      <td>Mark Watney is a steely-eyed missile man. A ma...</td>\n",
       "      <td>5</td>\n",
       "      <td>1519</td>\n",
       "      <td>0.106179</td>\n",
       "    </tr>\n",
       "    <tr>\n",
       "      <th>3</th>\n",
       "      <td>A fun fast paced book that sucks you in right ...</td>\n",
       "      <td>1</td>\n",
       "      <td>1791</td>\n",
       "      <td>0.125192</td>\n",
       "    </tr>\n",
       "    <tr>\n",
       "      <th>4</th>\n",
       "      <td>This book has a great premise, and is full of ...</td>\n",
       "      <td>0</td>\n",
       "      <td>1762</td>\n",
       "      <td>0.123165</td>\n",
       "    </tr>\n",
       "    <tr>\n",
       "      <th>...</th>\n",
       "      <td>...</td>\n",
       "      <td>...</td>\n",
       "      <td>...</td>\n",
       "      <td>...</td>\n",
       "    </tr>\n",
       "    <tr>\n",
       "      <th>9995</th>\n",
       "      <td>*I got this book from Netgalley in exchange fo...</td>\n",
       "      <td>0</td>\n",
       "      <td>3174</td>\n",
       "      <td>0.221865</td>\n",
       "    </tr>\n",
       "    <tr>\n",
       "      <th>9996</th>\n",
       "      <td>I quite enjoyed Carmilla. Obviously, there was...</td>\n",
       "      <td>0</td>\n",
       "      <td>594</td>\n",
       "      <td>0.041521</td>\n",
       "    </tr>\n",
       "    <tr>\n",
       "      <th>9997</th>\n",
       "      <td>Hmm... You can't be serious... 2018????? This ...</td>\n",
       "      <td>0</td>\n",
       "      <td>95</td>\n",
       "      <td>0.006641</td>\n",
       "    </tr>\n",
       "    <tr>\n",
       "      <th>9998</th>\n",
       "      <td>RTC</td>\n",
       "      <td>0</td>\n",
       "      <td>3</td>\n",
       "      <td>0.000210</td>\n",
       "    </tr>\n",
       "    <tr>\n",
       "      <th>9999</th>\n",
       "      <td>This book needs a lot of editing. Word repetit...</td>\n",
       "      <td>0</td>\n",
       "      <td>852</td>\n",
       "      <td>0.059555</td>\n",
       "    </tr>\n",
       "  </tbody>\n",
       "</table>\n",
       "<p>10000 rows × 4 columns</p>\n",
       "</div>"
      ],
      "text/plain": [
       "                                            review_text  n_comments  \\\n",
       "0     This is a special book. It started slow for ab...           1   \n",
       "1     A beautiful story. Neil Gaiman is truly a uniq...           1   \n",
       "2     Mark Watney is a steely-eyed missile man. A ma...           5   \n",
       "3     A fun fast paced book that sucks you in right ...           1   \n",
       "4     This book has a great premise, and is full of ...           0   \n",
       "...                                                 ...         ...   \n",
       "9995  *I got this book from Netgalley in exchange fo...           0   \n",
       "9996  I quite enjoyed Carmilla. Obviously, there was...           0   \n",
       "9997  Hmm... You can't be serious... 2018????? This ...           0   \n",
       "9998                                                RTC           0   \n",
       "9999  This book needs a lot of editing. Word repetit...           0   \n",
       "\n",
       "      len_review_text  normalized_len_review  \n",
       "0                2086               0.145813  \n",
       "1                1521               0.106319  \n",
       "2                1519               0.106179  \n",
       "3                1791               0.125192  \n",
       "4                1762               0.123165  \n",
       "...               ...                    ...  \n",
       "9995             3174               0.221865  \n",
       "9996              594               0.041521  \n",
       "9997               95               0.006641  \n",
       "9998                3               0.000210  \n",
       "9999              852               0.059555  \n",
       "\n",
       "[10000 rows x 4 columns]"
      ]
     },
     "execution_count": 24,
     "metadata": {},
     "output_type": "execute_result"
    }
   ],
   "source": [
    "df_2"
   ]
  },
  {
   "cell_type": "code",
   "execution_count": 25,
   "metadata": {},
   "outputs": [
    {
     "name": "stdout",
     "output_type": "stream",
     "text": [
      "MSE of predictor (degree 1):  1.5522086622355378\n"
     ]
    }
   ],
   "source": [
    "X_1 = np.vstack([np.ones(len(x)),df_2.normalized_len_review]).T\n",
    "\n",
    "lr1 = LinearRegression()\n",
    "lr1.fit(X_1, y)\n",
    "y1_pred = lr1.predict(X_1)\n",
    "print(\"MSE of predictor (degree 1): \", MSE(y, y1_pred))\n"
   ]
  },
  {
   "cell_type": "code",
   "execution_count": 26,
   "metadata": {},
   "outputs": [
    {
     "name": "stdout",
     "output_type": "stream",
     "text": [
      "MSE of predictor (degree 2):  1.5506567696339388\n"
     ]
    }
   ],
   "source": [
    "X_2 = np.vstack([np.ones(len(x)),df_2.normalized_len_review, df_2.normalized_len_review**2]).T\n",
    "\n",
    "lr2 = LinearRegression()\n",
    "lr2.fit(X_2, y)\n",
    "y2_pred = lr2.predict(X_2)\n",
    "print(\"MSE of predictor (degree 2): \", MSE(y, y2_pred))\n"
   ]
  },
  {
   "cell_type": "code",
   "execution_count": 27,
   "metadata": {},
   "outputs": [
    {
     "name": "stdout",
     "output_type": "stream",
     "text": [
      "[ 3.63659658  2.8884065  -8.48042966  6.12504475]\n"
     ]
    },
    {
     "name": "stderr",
     "output_type": "stream",
     "text": [
      "<ipython-input-27-2f069f447c8f>:3: FutureWarning: `rcond` parameter will change to the default of machine precision times ``max(M, N)`` where M and N are the input matrix dimensions.\n",
      "To use the future default and silence this warning we advise to pass `rcond=None`, to keep using the old, explicitly pass `rcond=-1`.\n",
      "  theta,residuals,rank,s = np.linalg.lstsq(X_3, y)\n"
     ]
    }
   ],
   "source": [
    "X_3= np.vstack([np.ones(len(x)),df_2.normalized_len_review, df_2.normalized_len_review**2, df_2.normalized_len_review**3]).T\n",
    "\n",
    "theta,residuals,rank,s = np.linalg.lstsq(X_3, y)\n",
    "print(theta)"
   ]
  },
  {
   "cell_type": "code",
   "execution_count": 28,
   "metadata": {},
   "outputs": [
    {
     "name": "stdout",
     "output_type": "stream",
     "text": [
      "MSE of predictor (degree 3):  1.549798532380553\n"
     ]
    }
   ],
   "source": [
    "lr3 = LinearRegression()\n",
    "lr3.fit(X_3, y)\n",
    "y3_pred = lr3.predict(X_3)\n",
    "print(\"MSE of predictor (degree 3): \", MSE(y, y3_pred))\n"
   ]
  },
  {
   "cell_type": "code",
   "execution_count": 29,
   "metadata": {},
   "outputs": [
    {
     "name": "stdout",
     "output_type": "stream",
     "text": [
      "[  3.64736873   2.20419719  -1.80763945 -11.6451833   12.21844408]\n"
     ]
    },
    {
     "name": "stderr",
     "output_type": "stream",
     "text": [
      "<ipython-input-29-f15f1939d4fe>:2: FutureWarning: `rcond` parameter will change to the default of machine precision times ``max(M, N)`` where M and N are the input matrix dimensions.\n",
      "To use the future default and silence this warning we advise to pass `rcond=None`, to keep using the old, explicitly pass `rcond=-1`.\n",
      "  theta,residuals,rank,s = np.linalg.lstsq(X_4, y)\n"
     ]
    }
   ],
   "source": [
    "X_4 = np.vstack([np.ones(len(x)),df_2.normalized_len_review, df_2.normalized_len_review**2, df_2.normalized_len_review**3, df_2.normalized_len_review**4]).T\n",
    "theta,residuals,rank,s = np.linalg.lstsq(X_4, y)\n",
    "print(theta)"
   ]
  },
  {
   "cell_type": "code",
   "execution_count": 30,
   "metadata": {},
   "outputs": [
    {
     "name": "stdout",
     "output_type": "stream",
     "text": [
      "MSE of predictor (degree 4):  1.5496291324524718\n"
     ]
    }
   ],
   "source": [
    "lr4 = LinearRegression()\n",
    "lr4.fit(X_4, y)\n",
    "y4_pred = lr4.predict(X_4)\n",
    "print(\"MSE of predictor (degree 4): \", MSE(y, y4_pred))\n"
   ]
  },
  {
   "cell_type": "code",
   "execution_count": 31,
   "metadata": {},
   "outputs": [
    {
     "name": "stdout",
     "output_type": "stream",
     "text": [
      "[  3.6441158    2.47396326  -5.65441081   5.55309592 -15.94637484\n",
      "  14.68100179]\n"
     ]
    },
    {
     "name": "stderr",
     "output_type": "stream",
     "text": [
      "<ipython-input-31-198495008c3c>:3: FutureWarning: `rcond` parameter will change to the default of machine precision times ``max(M, N)`` where M and N are the input matrix dimensions.\n",
      "To use the future default and silence this warning we advise to pass `rcond=None`, to keep using the old, explicitly pass `rcond=-1`.\n",
      "  theta,residuals,rank,s = np.linalg.lstsq(X_5, y)\n"
     ]
    }
   ],
   "source": [
    "X_5 = np.vstack([np.ones(len(x)),df_2.normalized_len_review, df_2.normalized_len_review**2, df_2.normalized_len_review**3, \n",
    "                 df_2.normalized_len_review**4,df_2.normalized_len_review**5]).T\n",
    "theta,residuals,rank,s = np.linalg.lstsq(X_5, y)\n",
    "print(theta)"
   ]
  },
  {
   "cell_type": "code",
   "execution_count": 32,
   "metadata": {},
   "outputs": [
    {
     "name": "stdout",
     "output_type": "stream",
     "text": [
      "MSE of predictor (degree 5):  1.5496142023298694\n"
     ]
    }
   ],
   "source": [
    "lr5 = LinearRegression()\n",
    "lr5.fit(X_5, y)\n",
    "y5_pred = lr5.predict(X_5)\n",
    "print(\"MSE of predictor (degree 5): \", MSE(y, y5_pred))"
   ]
  },
  {
   "cell_type": "code",
   "execution_count": null,
   "metadata": {},
   "outputs": [],
   "source": []
  },
  {
   "cell_type": "markdown",
   "metadata": {},
   "source": [
    "## 5. Repeat the above question, but this time split the data into a training and test set. You should split the data randomly into 50%/50% train/test fractions. Report the MSE of each model separately on the training and test sets."
   ]
  },
  {
   "cell_type": "code",
   "execution_count": 33,
   "metadata": {},
   "outputs": [],
   "source": [
    "X_train, X_test, y_train, y_test = train_test_split(df_2.normalized_len_review, y, test_size=0.5)"
   ]
  },
  {
   "cell_type": "code",
   "execution_count": 34,
   "metadata": {},
   "outputs": [
    {
     "name": "stdout",
     "output_type": "stream",
     "text": [
      "training MSE of predictor (degree 1):  1.5390457377522053\n",
      "testing MSE of predictor (degree 1):  1.565381608461469\n"
     ]
    }
   ],
   "source": [
    "X_train1 = np.vstack([np.ones(len(X_train)),X_train]).T\n",
    "X_test1 = np.vstack([np.ones(len(X_test)),X_test]).T\n",
    "\n",
    "lr1 = LinearRegression()\n",
    "lr1.fit(X_train1, y_train)\n",
    "y1train_pred = lr1.predict(X_train1)\n",
    "y1test_pred = lr1.predict(X_test1)\n",
    "print(\"training MSE of predictor (degree 1): \", MSE(y_train, y1train_pred))\n",
    "print(\"testing MSE of predictor (degree 1): \", MSE(y_test, y1test_pred))"
   ]
  },
  {
   "cell_type": "code",
   "execution_count": 35,
   "metadata": {},
   "outputs": [
    {
     "name": "stdout",
     "output_type": "stream",
     "text": [
      "training MSE of predictor (degree 2):  1.5387964291469067\n",
      "testing MSE of predictor (degree 2):  1.5671072455905872\n"
     ]
    }
   ],
   "source": [
    "X_train2 = np.vstack([np.ones(len(X_train)),X_train, X_train**2]).T\n",
    "X_test2 = np.vstack([np.ones(len(X_test)),X_test, X_train**2]).T\n",
    "\n",
    "lr2 = LinearRegression()\n",
    "lr2.fit(X_train2, y_train)\n",
    "y2train_pred = lr2.predict(X_train2)\n",
    "y2test_pred = lr2.predict(X_test2)\n",
    "print(\"training MSE of predictor (degree 2): \", MSE(y_train, y2train_pred))\n",
    "print(\"testing MSE of predictor (degree 2): \", MSE(y_test, y2test_pred))"
   ]
  },
  {
   "cell_type": "code",
   "execution_count": null,
   "metadata": {},
   "outputs": [],
   "source": []
  },
  {
   "cell_type": "code",
   "execution_count": 36,
   "metadata": {},
   "outputs": [
    {
     "name": "stdout",
     "output_type": "stream",
     "text": [
      "training MSE of predictor (degree 3):  1.5387893766316814\n",
      "testing MSE of predictor (degree 3):  1.5635620079026231\n"
     ]
    }
   ],
   "source": [
    "X_train3= np.vstack([np.ones(len(X_train)),X_train, X_train**2, X_train**3]).T\n",
    "X_test3 = np.vstack([np.ones(len(X_test)),X_test, X_test**2, X_test**3]).T\n",
    "\n",
    "lr3 = LinearRegression()\n",
    "lr3.fit(X_train3, y_train)\n",
    "y3train_pred = lr3.predict(X_train3)\n",
    "y3test_pred = lr3.predict(X_test3)\n",
    "print(\"training MSE of predictor (degree 3): \", MSE(y_train, y3train_pred))\n",
    "print(\"testing MSE of predictor (degree 3): \", MSE(y_test, y3test_pred))"
   ]
  },
  {
   "cell_type": "code",
   "execution_count": 37,
   "metadata": {},
   "outputs": [
    {
     "name": "stdout",
     "output_type": "stream",
     "text": [
      "training MSE of predictor (degree 4):  1.5379947926427142\n",
      "testing MSE of predictor (degree 4):  1.5646978055229257\n"
     ]
    }
   ],
   "source": [
    "X_train4= np.vstack([np.ones(len(X_train)),X_train, X_train**2, X_train**3, X_train**4]).T\n",
    "X_test4 = np.vstack([np.ones(len(X_test)), X_test, X_test**2, X_test**3, X_test**4]).T\n",
    "\n",
    "lr4 = LinearRegression()\n",
    "lr4.fit(X_train4, y_train)\n",
    "y4train_pred = lr4.predict(X_train4)\n",
    "y4test_pred = lr4.predict(X_test4)\n",
    "print(\"training MSE of predictor (degree 4): \", MSE(y_train, y4train_pred))\n",
    "print(\"testing MSE of predictor (degree 4): \", MSE(y_test, y4test_pred))"
   ]
  },
  {
   "cell_type": "code",
   "execution_count": 38,
   "metadata": {},
   "outputs": [
    {
     "name": "stdout",
     "output_type": "stream",
     "text": [
      "training MSE of predictor (degree 5):  1.5379775352491183\n",
      "testing MSE of predictor (degree 5):  1.5646955272472773\n"
     ]
    }
   ],
   "source": [
    "X_train5 = np.vstack([np.ones(len(X_train)),X_train, X_train**2, X_train**3, \n",
    "                 X_train**4,X_train**5]).T\n",
    "X_test5 = np.vstack([np.ones(len(X_test)),X_test, X_test**2, X_test**3, \n",
    "                 X_test**4,X_test**5]).T\n",
    "\n",
    "lr5 = LinearRegression()\n",
    "lr5.fit(X_train5, y_train)\n",
    "y5train_pred = lr5.predict(X_train5)\n",
    "y5test_pred = lr5.predict(X_test5)\n",
    "print(\"training MSE of predictor (degree 5): \", MSE(y_train, y5train_pred))\n",
    "print(\"testing MSE of predictor (degree 5): \", MSE(y_test, y5test_pred))\n"
   ]
  },
  {
   "cell_type": "markdown",
   "metadata": {},
   "source": [
    "# Classification"
   ]
  },
  {
   "cell_type": "code",
   "execution_count": 39,
   "metadata": {
    "scrolled": true
   },
   "outputs": [
    {
     "name": "stdout",
     "output_type": "stream",
     "text": [
      "Reading data...\n",
      "done\n"
     ]
    }
   ],
   "source": [
    "from urllib.request import urlopen\n",
    "import scipy.optimize\n",
    "import random\n",
    "\n",
    "def parseDataFromURL(fname):\n",
    "  for l in urlopen(fname):\n",
    "    yield eval(l)\n",
    "\n",
    "def parseData(fname):\n",
    "  for l in open(fname):\n",
    "    yield eval(l)\n",
    "\n",
    "print(\"Reading data...\")\n",
    "# Download from http://jmcauley.ucsd.edu/cse255/data/beer/beer_50000.json\"\n",
    "data = list(parseData(\"data/beer_50000.json\"))\n",
    "\n",
    "print(\"done\")"
   ]
  },
  {
   "cell_type": "code",
   "execution_count": 40,
   "metadata": {},
   "outputs": [],
   "source": [
    "beer = [d for d in data if 'user/gender' in d]"
   ]
  },
  {
   "cell_type": "code",
   "execution_count": 41,
   "metadata": {},
   "outputs": [],
   "source": [
    "#length of reviews\n",
    "x = np.array([len(d['review/text']) for d in beer])\n",
    "# apply sigmoid to X_0 + X1 * \\theta\n",
    "# z_1 = 1/(1 + np.exp(-1*x))\n",
    "# z_0 = 1 / (1 + np.exp(-1*np.ones(len(x))))\n",
    "# X = np.vstack([z_0, z_1]).T"
   ]
  },
  {
   "cell_type": "code",
   "execution_count": 42,
   "metadata": {},
   "outputs": [
    {
     "data": {
      "text/plain": [
       "array([[1.000e+00, 1.145e+03],\n",
       "       [1.000e+00, 7.280e+02],\n",
       "       [1.000e+00, 8.530e+02],\n",
       "       ...,\n",
       "       [1.000e+00, 5.770e+02],\n",
       "       [1.000e+00, 1.046e+03],\n",
       "       [1.000e+00, 7.650e+02]])"
      ]
     },
     "execution_count": 42,
     "metadata": {},
     "output_type": "execute_result"
    }
   ],
   "source": [
    "X_ = np.vstack([np.ones(len(x)),x ]).T\n",
    "X_"
   ]
  },
  {
   "cell_type": "code",
   "execution_count": 43,
   "metadata": {},
   "outputs": [
    {
     "data": {
      "text/plain": [
       "array([1145,  728,  853, ...,  577, 1046,  765])"
      ]
     },
     "execution_count": 43,
     "metadata": {},
     "output_type": "execute_result"
    }
   ],
   "source": [
    "x"
   ]
  },
  {
   "cell_type": "code",
   "execution_count": 44,
   "metadata": {},
   "outputs": [],
   "source": [
    "#user/gender is Female\n",
    "y = [\"Female\" == d['user/gender'] for d in beer]"
   ]
  },
  {
   "cell_type": "code",
   "execution_count": null,
   "metadata": {},
   "outputs": [],
   "source": []
  },
  {
   "cell_type": "code",
   "execution_count": 45,
   "metadata": {},
   "outputs": [],
   "source": [
    "from sklearn.linear_model import LogisticRegression"
   ]
  },
  {
   "cell_type": "code",
   "execution_count": 46,
   "metadata": {},
   "outputs": [],
   "source": [
    "#shuffle data\n",
    "Xy = list(zip(X_,y))\n",
    "random.shuffle(Xy)\n",
    "X = [d[0] for d in Xy]\n",
    "y = [d[1] for d in Xy]\n"
   ]
  },
  {
   "cell_type": "code",
   "execution_count": null,
   "metadata": {},
   "outputs": [],
   "source": []
  },
  {
   "cell_type": "code",
   "execution_count": 47,
   "metadata": {},
   "outputs": [],
   "source": [
    "\n",
    "Xtrain = X[:len(x)//2]\n",
    "Xtest = X[len(x)//2:]\n",
    "\n",
    "ytrain = y[:len(x)//2]\n",
    "ytest = y[len(x)//2:]\n",
    "\n",
    "logreg = LogisticRegression().fit(Xtrain,ytrain)\n",
    "pred = logreg.predict(Xtest)"
   ]
  },
  {
   "cell_type": "markdown",
   "metadata": {},
   "source": [
    "## 7. Fit a logistic regressor that estimates gender from review length, i.e., p(gender is female) ' σ(θ0 + θ1 × [length]) Report the True Positive, True Negative, False Positive, False Negative, and Balanced Error Rates of the predictor."
   ]
  },
  {
   "cell_type": "code",
   "execution_count": 48,
   "metadata": {},
   "outputs": [
    {
     "name": "stdout",
     "output_type": "stream",
     "text": [
      "true positive rate:  0.0\n",
      "true negative rate:  1.0\n",
      "false positive rate:  0.0\n",
      "false negative rate:  1.0\n",
      "balanced error rate:  0.5\n"
     ]
    }
   ],
   "source": [
    "# number of true positives, false positives, true negatives, and false negatives\n",
    "TP_ = np.logical_and(pred, ytest)\n",
    "FP_ = np.logical_and(pred, np.logical_not(ytest))\n",
    "TN_ = np.logical_and(np.logical_not(pred), np.logical_not(ytest))\n",
    "FN_ = np.logical_and(np.logical_not(pred), ytest)\n",
    "\n",
    "TP = sum(TP_)\n",
    "FP = sum(FP_)\n",
    "TN = sum(TN_)\n",
    "FN = sum(FN_)\n",
    "print(\"true positive rate: \", TP/(TP+FN))\n",
    "print(\"true negative rate: \", TN/(TN+FP))\n",
    "print(\"false positive rate: \", FP/(FP+TN))\n",
    "print(\"false negative rate: \", FN/(FN+TP))\n",
    "FPR = FP/(FP+TN)\n",
    "FNR = FN/(FN+TP)\n",
    "print(\"balanced error rate: \", (1/2)*(FPR+FNR))"
   ]
  },
  {
   "cell_type": "code",
   "execution_count": null,
   "metadata": {},
   "outputs": [],
   "source": []
  },
  {
   "cell_type": "markdown",
   "metadata": {},
   "source": [
    "## 8. Retrain the regressor using the class weight=’balanced’ option, and report the same error metrics as above."
   ]
  },
  {
   "cell_type": "code",
   "execution_count": 49,
   "metadata": {},
   "outputs": [],
   "source": [
    "#length of reviews\n",
    "x = np.array([len(d['review/text']) for d in beer])\n",
    "#apply sigmoid to X_0 + X1 * \\theta\n",
    "# z_1 = 1/(1 + np.exp(-1*x))\n",
    "# z_0= 1 / (1 + np.exp(-1*np.ones(len(x))))\n",
    "X = np.vstack([np.ones(len(x)), x]).T\n",
    "y = [\"Female\" == d['user/gender'] for d in beer]"
   ]
  },
  {
   "cell_type": "code",
   "execution_count": 50,
   "metadata": {},
   "outputs": [],
   "source": [
    "Xy = list(zip(X,y))\n",
    "random.shuffle(Xy)\n",
    "X = [d[0] for d in Xy]\n",
    "y = [d[1] for d in Xy]\n",
    "\n",
    "\n",
    "Xtrain = X[:len(x)//2]\n",
    "Xtest = X[len(x)//2:]\n",
    "\n",
    "ytrain = y[:len(x)//2]\n",
    "ytest = y[len(x)//2:]\n",
    "\n",
    "logreg = LogisticRegression(class_weight = 'balanced').fit(Xtrain,ytrain)\n",
    "pred = logreg.predict(Xtest)"
   ]
  },
  {
   "cell_type": "code",
   "execution_count": 51,
   "metadata": {
    "scrolled": false
   },
   "outputs": [
    {
     "name": "stdout",
     "output_type": "stream",
     "text": [
      "true positive rate:  0.6071428571428571\n",
      "true negative rate:  0.4242695289206917\n",
      "false positive rate:  0.5757304710793083\n",
      "false negative rate:  0.39285714285714285\n",
      "balanced error rate:  0.48429380696822555\n"
     ]
    }
   ],
   "source": [
    "# number of true positives, false positives, true negatives, and false negatives\n",
    "TP_ = np.logical_and(pred, ytest)\n",
    "FP_ = np.logical_and(pred, np.logical_not(ytest))\n",
    "TN_ = np.logical_and(np.logical_not(pred), np.logical_not(ytest))\n",
    "FN_ = np.logical_and(np.logical_not(pred), ytest)\n",
    "\n",
    "TP = sum(TP_)\n",
    "FP = sum(FP_)\n",
    "TN = sum(TN_)\n",
    "FN = sum(FN_)\n",
    "print(\"true positive rate: \", TP/(TP+FN))\n",
    "print(\"true negative rate: \", TN/(TN+FP))\n",
    "print(\"false positive rate: \", FP/(FP+TN))\n",
    "print(\"false negative rate: \", FN/(FN+TP))\n",
    "FPR = FP/(FP+TN)\n",
    "FNR = FN/(FN+TP)\n",
    "print(\"balanced error rate: \", (1/2)*(FPR+FNR))"
   ]
  },
  {
   "cell_type": "code",
   "execution_count": null,
   "metadata": {},
   "outputs": [],
   "source": []
  },
  {
   "cell_type": "markdown",
   "metadata": {},
   "source": [
    "## 9. Improve your predictor (i.e., reduce the balanced error rate) by incorporating additional features from the data (e.g. beer styles, ratings, features from text, etc.)"
   ]
  },
  {
   "cell_type": "code",
   "execution_count": 52,
   "metadata": {},
   "outputs": [],
   "source": [
    "#length of reviews\n",
    "x = np.array([len(d['review/text']) for d in beer])\n",
    "x = x / np.max(x)\n",
    "#apply sigmoid to X_0 + X1 * \\theta\n",
    "# z_1 = 1/(1 + np.exp(-1*x))\n",
    "\n",
    "\n",
    "# z_0 = 1 / (1 + np.exp(-1*np.ones(len(x))))\n",
    "\n",
    "x_2 = np.array([d['review/taste'] for d in beer])\n",
    "# z_2 =  1/(1 + np.exp(-1*x_2))\n",
    "\n",
    "x_3 = np.array([d['beer/ABV'] for d in beer])\n",
    "# z_3 = 1/(1 + np.exp(-1*x_3))\n",
    "\n",
    "x_4 = np.array([d['review/overall'] for d in beer])\n",
    "# z_4 = 1/(1 + np.exp(-1*x_4))\n",
    "\n",
    "\n",
    "X = np.vstack([np.ones(len(x)),x, x_2,x_3, x_4]).T\n",
    "\n",
    "\n"
   ]
  },
  {
   "cell_type": "code",
   "execution_count": 53,
   "metadata": {},
   "outputs": [],
   "source": [
    "y = [\"Female\" == d['user/gender'] for d in beer]"
   ]
  },
  {
   "cell_type": "code",
   "execution_count": 54,
   "metadata": {},
   "outputs": [],
   "source": [
    "Xy = list(zip(X,y))\n",
    "random.shuffle(Xy)\n",
    "X = [d[0] for d in Xy]\n",
    "y = [d[1] for d in Xy]\n",
    "\n",
    "\n",
    "Xtrain = X[:len(x)//2]\n",
    "Xtest = X[len(x)//2:]\n",
    "\n",
    "ytrain = y[:len(x)//2]\n",
    "ytest = y[len(x)//2:]\n",
    "\n",
    "logreg = LogisticRegression(class_weight = 'balanced').fit(Xtrain,ytrain)\n",
    "pred = logreg.predict(Xtest)"
   ]
  },
  {
   "cell_type": "code",
   "execution_count": 55,
   "metadata": {},
   "outputs": [
    {
     "name": "stdout",
     "output_type": "stream",
     "text": [
      "true positive rate:  0.5611510791366906\n",
      "true negative rate:  0.49826095597734277\n",
      "false positive rate:  0.5017390440226572\n",
      "false negative rate:  0.43884892086330934\n",
      "balanced error rate:  0.47029398244298326\n"
     ]
    }
   ],
   "source": [
    "# number of true positives, false positives, true negatives, and false negatives\n",
    "TP_ = np.logical_and(pred, ytest)\n",
    "FP_ = np.logical_and(pred, np.logical_not(ytest))\n",
    "TN_ = np.logical_and(np.logical_not(pred), np.logical_not(ytest))\n",
    "FN_ = np.logical_and(np.logical_not(pred), ytest)\n",
    "\n",
    "TP = sum(TP_)\n",
    "FP = sum(FP_)\n",
    "TN = sum(TN_)\n",
    "FN = sum(FN_)\n",
    "print(\"true positive rate: \", TP/(TP+FN))\n",
    "print(\"true negative rate: \", TN/(TN+FP))\n",
    "print(\"false positive rate: \", FP/(FP+TN))\n",
    "print(\"false negative rate: \", FN/(FN+TP))\n",
    "FPR = FP/(FP+TN)\n",
    "FNR = FN/(FN+TP)\n",
    "print(\"balanced error rate: \", (1/2)*(FPR+FNR))"
   ]
  },
  {
   "cell_type": "code",
   "execution_count": null,
   "metadata": {},
   "outputs": [],
   "source": []
  }
 ],
 "metadata": {
  "kernelspec": {
   "display_name": "Python 3",
   "language": "python",
   "name": "python3"
  },
  "language_info": {
   "codemirror_mode": {
    "name": "ipython",
    "version": 3
   },
   "file_extension": ".py",
   "mimetype": "text/x-python",
   "name": "python",
   "nbconvert_exporter": "python",
   "pygments_lexer": "ipython3",
   "version": "3.8.3"
  }
 },
 "nbformat": 4,
 "nbformat_minor": 4
}
