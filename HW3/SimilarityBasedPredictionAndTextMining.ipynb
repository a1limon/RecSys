{
 "cells": [
  {
   "cell_type": "code",
   "execution_count": 1,
   "metadata": {},
   "outputs": [],
   "source": [
    "import gzip\n",
    "import sklearn\n",
    "from sklearn import linear_model\n",
    "from collections import defaultdict\n",
    "import random\n",
    "import math\n",
    "import numpy as np\n",
    "from sklearn.metrics import jaccard_score as jaccard"
   ]
  },
  {
   "cell_type": "markdown",
   "metadata": {},
   "source": [
    "# Tasks (Play prediction)\n",
    "### Play prediction (both classes) \n",
    "#### Predict given a (user,game) pair from ‘pairs Played.txt’ whether the user would play the game (0 or 1). Accuracy will be measured in terms of the categorization accuracy (fraction of correct predictions). The test set has been constructed such that exactly 50% of the pairs correspond to played games and the other 50% do not."
   ]
  },
  {
   "cell_type": "code",
   "execution_count": 2,
   "metadata": {},
   "outputs": [],
   "source": [
    "def parse(f):\n",
    "    for l in gzip.open(f):\n",
    "        yield eval(l)"
   ]
  },
  {
   "cell_type": "code",
   "execution_count": 3,
   "metadata": {},
   "outputs": [],
   "source": [
    "train_json = list(parse(\"data/train.json.gz\"))"
   ]
  },
  {
   "cell_type": "code",
   "execution_count": 4,
   "metadata": {},
   "outputs": [
    {
     "data": {
      "text/plain": [
       "{'hours': 0.3,\n",
       " 'gameID': 'b96045472',\n",
       " 'hours_transformed': 0.37851162325372983,\n",
       " 'early_access': False,\n",
       " 'date': '2015-04-08',\n",
       " 'text': '+1',\n",
       " 'userID': 'u01561183'}"
      ]
     },
     "execution_count": 4,
     "metadata": {},
     "output_type": "execute_result"
    }
   ],
   "source": [
    "train_json[0]"
   ]
  },
  {
   "cell_type": "code",
   "execution_count": 5,
   "metadata": {},
   "outputs": [],
   "source": [
    "data = [[d['userID'],d['gameID'],1] for d in train_json]\n",
    "\n",
    "split = 165000\n",
    "train = train_json[:split]\n",
    "ug_train = [[d['userID'],d['gameID'],1] for d in train]\n",
    "validation = train_json[split:]\n",
    "ug_valid = [[d['userID'],d['gameID'],1] for d in validation]"
   ]
  },
  {
   "cell_type": "code",
   "execution_count": null,
   "metadata": {},
   "outputs": [],
   "source": []
  },
  {
   "cell_type": "markdown",
   "metadata": {},
   "source": [
    "#### Task 1"
   ]
  },
  {
   "cell_type": "code",
   "execution_count": null,
   "metadata": {},
   "outputs": [],
   "source": []
  },
  {
   "cell_type": "code",
   "execution_count": 6,
   "metadata": {},
   "outputs": [],
   "source": [
    "def readJSON(path):\n",
    "  for l in gzip.open(path, 'rt'):\n",
    "    d = eval(l)\n",
    "    u = d['userID']\n",
    "    try:\n",
    "      g = d['gameID']\n",
    "    except Exception as e:\n",
    "      g = None\n",
    "    yield u,g,d"
   ]
  },
  {
   "cell_type": "code",
   "execution_count": null,
   "metadata": {},
   "outputs": [],
   "source": []
  },
  {
   "cell_type": "code",
   "execution_count": null,
   "metadata": {},
   "outputs": [],
   "source": [
    "# ### Time-played baseline: compute averages for each user, or return the global average if we've never seen the user before\n",
    "\n",
    "# allHours = []\n",
    "# userHours = defaultdict(list)\n",
    "\n",
    "# for user,game,d in readJSON(\"data/train.json.gz\"):\n",
    "#   h = d['hours_transformed']\n",
    "#   allHours.append(h)\n",
    "#   userHours[user].append(h)\n",
    "\n",
    "# globalAverage = sum(allHours) / len(allHours)\n",
    "# userAverage = {}\n",
    "# for u in userHours:\n",
    "#   userAverage[u] = sum(userHours[u]) / len(userHours[u])"
   ]
  },
  {
   "cell_type": "code",
   "execution_count": null,
   "metadata": {},
   "outputs": [],
   "source": [
    "# predictions = open(\"predictions_Hours.txt\", 'w')\n",
    "# for l in open(\"data/pairs_Hours.txt\"):\n",
    "#   if l.startswith(\"userID\"):\n",
    "#     #header\n",
    "#     predictions.write(l)\n",
    "#     continue\n",
    "#   u,g = l.strip().split('-')\n",
    "#   if u in userAverage:\n",
    "#     predictions.write(u + '-' + g + ',' + str(userAverage[u]) + '\\n')\n",
    "#   else:\n",
    "#     predictions.write(u + '-' + g + ',' + str(globalAverage) + '\\n')\n",
    "\n",
    "# predictions.close()"
   ]
  },
  {
   "cell_type": "code",
   "execution_count": null,
   "metadata": {},
   "outputs": [],
   "source": [
    "### Would-play baseline: just rank which games are popular and which are not, and return '1' if a game is among the top-ranked\n",
    "\n",
    "# gameCount = defaultdict(int)\n",
    "# totalPlayed = 0\n",
    "\n",
    "# for user,game,_ in readJSON(\"data/train.json.gz\"):\n",
    "#   gameCount[game] += 1\n",
    "#   totalPlayed += 1\n",
    "\n",
    "# mostPopular = [(gameCount[x], x) for x in gameCount]\n",
    "# mostPopular.sort()\n",
    "# mostPopular.reverse()\n",
    "\n",
    "# return1 = set()\n",
    "# count = 0\n",
    "# for ic, i in mostPopular:\n",
    "#   count += ic\n",
    "#   return1.add(i)\n",
    "#   if count > totalPlayed/2: break"
   ]
  },
  {
   "cell_type": "code",
   "execution_count": null,
   "metadata": {},
   "outputs": [],
   "source": [
    "# predictions = open(\"predictions_Played.txt\", 'w')\n",
    "# for l in open(\"data/pairs_Played.txt\"):\n",
    "#   if l.startswith(\"userID\"):\n",
    "#     #header\n",
    "#     predictions.write(l)\n",
    "#     continue\n",
    "#   u,g = l.strip().split('-')\n",
    "#   if g in return1:\n",
    "#     predictions.write(u + '-' + g + \",1\\n\")\n",
    "#   else:\n",
    "#     predictions.write(u + '-' + g + \",0\\n\")\n",
    "\n",
    "# predictions.close()"
   ]
  },
  {
   "cell_type": "code",
   "execution_count": null,
   "metadata": {},
   "outputs": [],
   "source": [
    "# ### Category prediction baseline: Just consider some of the most common words from each category\n",
    "\n",
    "# catDict = {\n",
    "#   \"Action\": 0,\n",
    "#   \"Strategy\": 1,\n",
    "#   \"RPG\": 2,\n",
    "#   \"Adventure\": 3,\n",
    "#   \"Sport\": 4\n",
    "# }\n",
    "\n",
    "# predictions = open(\"predictions_Category.txt\", 'w')\n",
    "# predictions.write(\"userID-reviewID,prediction\\n\")\n",
    "# for u,_,d in readJSON(\"data/test_Category.json.gz\"):\n",
    "#   cat = catDict['Action'] # If there's no evidence, just choose the most common category in the dataset\n",
    "#   words = d['text'].lower()\n",
    "#   if 'strategy' in words:\n",
    "#     cat = catDict['Strategy']\n",
    "#   if 'rpg' in words:\n",
    "#     cat = catDict['RPG']\n",
    "#   if 'adventure' in words:\n",
    "#     cat = catDict['Adventure']\n",
    "#   if 'sport' in words:\n",
    "#     cat = catDict['Sport']\n",
    "#   predictions.write(u + '-' + d['reviewID'] + \",\" + str(cat) + \"\\n\")\n",
    "\n",
    "# predictions.close()"
   ]
  },
  {
   "cell_type": "markdown",
   "metadata": {},
   "source": [
    "#### Task 1"
   ]
  },
  {
   "cell_type": "code",
   "execution_count": 7,
   "metadata": {},
   "outputs": [],
   "source": [
    "#gets users per game and games per user from entire dataset\n",
    "usersPerGame = defaultdict(set)\n",
    "gamesPerUser = defaultdict(set)\n",
    "uniqueGames = set()\n",
    "\n",
    "for d in data:\n",
    "    u, g = d[0], d[1]\n",
    "    usersPerGame[g].add(u)\n",
    "    gamesPerUser[u].add(g)\n",
    "    uniqueGames.add(g)"
   ]
  },
  {
   "cell_type": "code",
   "execution_count": 8,
   "metadata": {},
   "outputs": [],
   "source": [
    "users_valid = [d[0] for d in ug_valid]"
   ]
  },
  {
   "cell_type": "code",
   "execution_count": 9,
   "metadata": {},
   "outputs": [],
   "source": [
    "ug_valid_neg= []\n",
    "for u in users_valid:\n",
    "    gamesNotPlayed = uniqueGames - gamesPerUser[u]\n",
    "    randomGame = random.choice(list(gamesNotPlayed))\n",
    "    ug_valid_neg.append([u, randomGame,0])\n",
    "    "
   ]
  },
  {
   "cell_type": "code",
   "execution_count": 10,
   "metadata": {},
   "outputs": [
    {
     "data": {
      "text/plain": [
       "[['u49969792', 'b08286994', 0],\n",
       " ['u33147591', 'b41038309', 0],\n",
       " ['u00954406', 'b81039440', 0],\n",
       " ['u40416473', 'b73515692', 0],\n",
       " ['u08125051', 'b73825833', 0],\n",
       " ['u16794935', 'b65708637', 0],\n",
       " ['u42345370', 'b86627453', 0],\n",
       " ['u40134397', 'b99600313', 0],\n",
       " ['u38053603', 'b71138223', 0],\n",
       " ['u25257262', 'b22856743', 0]]"
      ]
     },
     "execution_count": 10,
     "metadata": {},
     "output_type": "execute_result"
    }
   ],
   "source": [
    "ug_valid_neg[:10]"
   ]
  },
  {
   "cell_type": "code",
   "execution_count": 11,
   "metadata": {},
   "outputs": [
    {
     "data": {
      "text/plain": [
       "[['u49969792', 'b25961467', 1],\n",
       " ['u33147591', 'b73229067', 1],\n",
       " ['u00954406', 'b37068085', 1],\n",
       " ['u40416473', 'b85572219', 1],\n",
       " ['u08125051', 'b88846011', 1],\n",
       " ['u16794935', 'b19939295', 1],\n",
       " ['u42345370', 'b31288876', 1],\n",
       " ['u40134397', 'b22332890', 1],\n",
       " ['u38053603', 'b44539786', 1],\n",
       " ['u25257262', 'b64105731', 1]]"
      ]
     },
     "execution_count": 11,
     "metadata": {},
     "output_type": "execute_result"
    }
   ],
   "source": [
    "ug_valid[:10]"
   ]
  },
  {
   "cell_type": "code",
   "execution_count": 12,
   "metadata": {},
   "outputs": [],
   "source": [
    "ug_valid_build = ug_valid + ug_valid_neg"
   ]
  },
  {
   "cell_type": "code",
   "execution_count": 13,
   "metadata": {},
   "outputs": [
    {
     "data": {
      "text/plain": [
       "[['u90835702', 'b62891570', 1],\n",
       " ['u40505592', 'b75563467', 1],\n",
       " ['u67709233', 'b14676161', 1],\n",
       " ['u79727950', 'b36105300', 1],\n",
       " ['u25903175', 'b50879604', 1],\n",
       " ['u49969792', 'b08286994', 0],\n",
       " ['u33147591', 'b41038309', 0],\n",
       " ['u00954406', 'b81039440', 0],\n",
       " ['u40416473', 'b73515692', 0],\n",
       " ['u08125051', 'b73825833', 0]]"
      ]
     },
     "execution_count": 13,
     "metadata": {},
     "output_type": "execute_result"
    }
   ],
   "source": [
    "ug_valid_build[9995:10005]"
   ]
  },
  {
   "cell_type": "code",
   "execution_count": 14,
   "metadata": {},
   "outputs": [
    {
     "data": {
      "text/plain": [
       "20000"
      ]
     },
     "execution_count": 14,
     "metadata": {},
     "output_type": "execute_result"
    }
   ],
   "source": [
    "len(ug_valid_build)"
   ]
  },
  {
   "cell_type": "code",
   "execution_count": 15,
   "metadata": {},
   "outputs": [],
   "source": [
    "Xvalid = [[d[0],d[1]] for d in ug_valid_build]\n",
    "yvalid = [d[2] for d in ug_valid_build]\n",
    "\n",
    "Xtrain = [[d[0], d[1]] for d in ug_train]\n",
    "ytrain = [d[2] for d in ug_train]"
   ]
  },
  {
   "cell_type": "code",
   "execution_count": 16,
   "metadata": {},
   "outputs": [],
   "source": [
    "\n",
    "\n",
    "### Would-play baseline: just rank which games are popular and which are not, and return '1' if a game is among the top-ranked\n",
    "##task 1 baseline\n",
    "def baselinePreds(Xvalid, threshold):\n",
    "    gameCount = defaultdict(int)\n",
    "    totalPlayed = 0\n",
    "\n",
    "    for user,game,_ in readJSON(\"data/train.json.gz\"):\n",
    "      gameCount[game] += 1\n",
    "      totalPlayed += 1\n",
    " \n",
    "        \n",
    "\n",
    "    mostPopular = [(gameCount[x], x) for x in gameCount]\n",
    "    mostPopular.sort()\n",
    "    mostPopular.reverse()\n",
    "\n",
    "    return1 = set()\n",
    "    count = 0\n",
    "    for ic, i in mostPopular:\n",
    "      count += ic\n",
    "      return1.add(i)\n",
    "      if count > totalPlayed/threshold: break\n",
    "\n",
    "\n",
    "    #task 1 predictions\n",
    "    predictions = []\n",
    "    for user, game in Xvalid:\n",
    "        if game in return1:\n",
    "            predictions.append(1)\n",
    "        else:\n",
    "            predictions.append(0)\n",
    "\n",
    "    return predictions"
   ]
  },
  {
   "cell_type": "code",
   "execution_count": 17,
   "metadata": {},
   "outputs": [],
   "source": [
    "def computeAccuracy(preds, true):  \n",
    "    correct = np.array(preds) == np.array(true)\n",
    "    return sum(correct) / len(correct)\n"
   ]
  },
  {
   "cell_type": "code",
   "execution_count": 18,
   "metadata": {},
   "outputs": [],
   "source": [
    "preds = baselinePreds(Xvalid,2)"
   ]
  },
  {
   "cell_type": "code",
   "execution_count": 19,
   "metadata": {},
   "outputs": [
    {
     "data": {
      "text/plain": [
       "0.68205"
      ]
     },
     "execution_count": 19,
     "metadata": {},
     "output_type": "execute_result"
    }
   ],
   "source": [
    "#accuracy of baseline model on validation set\n",
    "th2_acc = computeAccuracy(preds, yvalid)\n",
    "th2_acc"
   ]
  },
  {
   "cell_type": "markdown",
   "metadata": {},
   "source": [
    "#### Task 2"
   ]
  },
  {
   "cell_type": "markdown",
   "metadata": {},
   "source": [
    "#### my choice for thresholds was to keep it low, and see if being more selective in terms of popularity percentile would yield a better model, as you can see it performed slightly better in terms of accuracy"
   ]
  },
  {
   "cell_type": "code",
   "execution_count": 20,
   "metadata": {},
   "outputs": [
    {
     "data": {
      "text/plain": [
       "(1.5000000000000004, 0.70355)"
      ]
     },
     "execution_count": 20,
     "metadata": {},
     "output_type": "execute_result"
    }
   ],
   "source": [
    "# my choice for thresholds was to keep it low, and see if being more selective \n",
    "#in terms of popularity percentile would yield a better model\n",
    "\n",
    "def bestThreshold():\n",
    "    best_th = 2\n",
    "    best_acc = th2_acc\n",
    "    for i in np.arange(1,2.05,.05):\n",
    "        acc = computeAccuracy(baselinePreds(Xvalid,i), yvalid)\n",
    "        if acc > best_acc:\n",
    "            best_th = i\n",
    "            best_acc = acc\n",
    "    return best_th, best_acc\n",
    "\n",
    "bestThreshold()"
   ]
  },
  {
   "cell_type": "markdown",
   "metadata": {},
   "source": [
    "#### Task 3"
   ]
  },
  {
   "cell_type": "code",
   "execution_count": 21,
   "metadata": {},
   "outputs": [],
   "source": [
    "import matplotlib.pyplot as plt"
   ]
  },
  {
   "cell_type": "code",
   "execution_count": 22,
   "metadata": {},
   "outputs": [],
   "source": [
    "def Jaccard(s1, s2):\n",
    "    numer = len(s1.intersection(s2))\n",
    "    denom = len(s1.union(s2))\n",
    "    return numer / denom"
   ]
  },
  {
   "cell_type": "code",
   "execution_count": null,
   "metadata": {},
   "outputs": [],
   "source": []
  },
  {
   "cell_type": "code",
   "execution_count": 23,
   "metadata": {},
   "outputs": [],
   "source": [
    "#all users for a specific game in training data\n",
    "#all games for a specific user in training data\n",
    "usersPerGame = defaultdict(set)\n",
    "gamesPerUser = defaultdict(set)\n",
    "for u,g in Xtrain:\n",
    "    usersPerGame[g].add(u)\n",
    "    gamesPerUser[u].add(g)\n",
    "    "
   ]
  },
  {
   "cell_type": "code",
   "execution_count": 24,
   "metadata": {},
   "outputs": [],
   "source": [
    "def similarityScores(user, game):\n",
    "    #consider g' in training set that a user has played\n",
    "    g_primes = gamesPerUser[user]\n",
    "    similarities = []\n",
    "    \n",
    "    if len(g_primes) == 0:\n",
    "        similarities.append(0)\n",
    "        return similarities\n",
    "    \n",
    "    for g_prime in g_primes:\n",
    "        if g_prime == g:\n",
    "            continue\n",
    "        #users in training data who have played g\n",
    "        ugTrain = usersPerGame[game]\n",
    "        #users who have played g'\n",
    "        ugPrime = usersPerGame[g_prime]\n",
    "        if len(ugPrime) == 0:\n",
    "            similarities.append(0)\n",
    "        else:\n",
    "            similarities.append(Jaccard(ugTrain,ugPrime))\n",
    "        \n",
    "    return similarities"
   ]
  },
  {
   "cell_type": "code",
   "execution_count": 25,
   "metadata": {},
   "outputs": [],
   "source": [
    "max_scores = []\n",
    "for user, game in Xvalid:\n",
    "    max_scores.append(np.max(similarityScores(user, game)))"
   ]
  },
  {
   "cell_type": "code",
   "execution_count": 26,
   "metadata": {},
   "outputs": [
    {
     "data": {
      "image/png": "[encoded data removed]",
      "text/plain": [
       "<Figure size 432x288 with 1 Axes>"
      ]
     },
     "metadata": {
      "needs_background": "light"
     },
     "output_type": "display_data"
    }
   ],
   "source": [
    "plt.hist(max_scores, bins = np.arange(0,.2,.001))\n",
    "plt.show()"
   ]
  },
  {
   "cell_type": "code",
   "execution_count": null,
   "metadata": {},
   "outputs": [],
   "source": []
  },
  {
   "cell_type": "code",
   "execution_count": 27,
   "metadata": {},
   "outputs": [
    {
     "data": {
      "text/plain": [
       "(array([2.502e+03, 9.094e+03, 5.712e+03, 1.680e+03, 6.940e+02, 2.630e+02,\n",
       "        4.800e+01, 4.000e+00, 2.000e+00, 1.000e+00]),\n",
       " array([0.        , 0.01666667, 0.03333333, 0.05      , 0.06666667,\n",
       "        0.08333333, 0.1       , 0.11666667, 0.13333333, 0.15      ,\n",
       "        0.16666667]),\n",
       " <a list of 10 Patch objects>)"
      ]
     },
     "execution_count": 27,
     "metadata": {},
     "output_type": "execute_result"
    },
    {
     "data": {
      "image/png": "[encoded data removed]",
      "text/plain": [
       "<Figure size 432x288 with 1 Axes>"
      ]
     },
     "metadata": {
      "needs_background": "light"
     },
     "output_type": "display_data"
    }
   ],
   "source": [
    "plt.hist(max_scores)"
   ]
  },
  {
   "cell_type": "code",
   "execution_count": 28,
   "metadata": {},
   "outputs": [],
   "source": [
    "def jaccard_preds(max_scores,th):\n",
    "    predictions = []\n",
    "    for sim in max_scores:\n",
    "        if sim > th:\n",
    "            predictions.append(1)\n",
    "        else:\n",
    "            predictions.append(0)\n",
    "    return predictions"
   ]
  },
  {
   "cell_type": "code",
   "execution_count": 29,
   "metadata": {
    "scrolled": false
   },
   "outputs": [
    {
     "data": {
      "text/plain": [
       "(0.03, 0.67515)"
      ]
     },
     "execution_count": 29,
     "metadata": {},
     "output_type": "execute_result"
    }
   ],
   "source": [
    "def bestThreshold():\n",
    "    best_th = 0\n",
    "    best_acc = 0\n",
    "    for th in np.arange(0,.1,.001):\n",
    "        preds = jaccard_preds(max_scores,th)\n",
    "        acc = computeAccuracy(preds, yvalid)\n",
    "        if acc > best_acc:\n",
    "            best_th = th\n",
    "            best_acc = acc\n",
    "            \n",
    "    return (best_th, best_acc)\n",
    "bestThreshold()"
   ]
  },
  {
   "cell_type": "markdown",
   "metadata": {},
   "source": [
    "#### Task 4"
   ]
  },
  {
   "cell_type": "markdown",
   "metadata": {},
   "source": [
    "#### Incorporating both a Jaccard-based threshold and a popularity threshold seemed to perform better than just a Jaccard-based threshold alone, but not quite as well as a popularity based threshold alone."
   ]
  },
  {
   "cell_type": "code",
   "execution_count": 30,
   "metadata": {},
   "outputs": [],
   "source": [
    "def baselinePreds4(ug_valid_build, j_th,pop_th):\n",
    "    gameCount = defaultdict(int)\n",
    "    totalPlayed = 0\n",
    "\n",
    "    for user,game,_ in readJSON(\"data/train.json.gz\"):\n",
    "        gameCount[game] += 1\n",
    "        totalPlayed += 1\n",
    "\n",
    "    mostPopular = [(gameCount[x], x) for x in gameCount]\n",
    "    mostPopular.sort()\n",
    "    mostPopular.reverse()\n",
    "\n",
    "    return1 = set()\n",
    "    count = 0\n",
    "    for ic, i in mostPopular:\n",
    "        count += ic\n",
    "        return1.add(i)\n",
    "        if count > totalPlayed/pop_th: break\n",
    "\n",
    "\n",
    "#     #task 1 predictions\n",
    "#     predictions = []\n",
    "#     for user, game, _ in ug_valid_build:\n",
    "#         if game in return1:\n",
    "#             predictions.append(1)\n",
    "#         else:\n",
    "#             predictions.append(0)\n",
    "\n",
    "\n",
    "#     predictions_or = []\n",
    "#     for user, game, _ in ug_valid_build:\n",
    "#         mostSim = similarityScores(user, game)\n",
    "#         if (game in return1) or (max(mostSim) >= j_th):\n",
    "#             predictions_or.append(1)\n",
    "#         else:\n",
    "#             predictions_or.append(0)\n",
    "            \n",
    "    predictions_and = []\n",
    "    for user, game, _ in ug_valid_build:\n",
    "        mostSim = similarityScores(user, game)\n",
    "        if (game in return1) and (max(mostSim) >= j_th):\n",
    "            predictions_and.append(1)\n",
    "        else:\n",
    "            predictions_and.append(0)\n",
    "    return predictions_and"
   ]
  },
  {
   "cell_type": "code",
   "execution_count": 32,
   "metadata": {},
   "outputs": [
    {
     "name": "stdout",
     "output_type": "stream",
     "text": [
      "0.69435\n"
     ]
    }
   ],
   "source": [
    "preds_and = baselinePreds4(ug_valid_build,.03,1.5)\n",
    "and_acc = computeAccuracy(preds_and, yvalid)\n",
    "print(and_acc)"
   ]
  },
  {
   "cell_type": "markdown",
   "metadata": {},
   "source": [
    "#### redesign model\n",
    "##### when passing the best threshold from q2 and q3 into the function above i mistyped one of the thresholds and managed to get an unexpected accuracy, so I ran a script to see if combining different jaccard-based thresholds and popularity thresholds would give better accuracy, or if the optimal thresholds from q2 and q3 were still the best, unfortunately the run time was a couple of hours because I was testing a large range of every possible combination for jaccard/popularity thresholds, i also redid some of the conditional statements for a more lenient predictor\n",
    "##### the pseudo code for finding a better threshold combo is having two for loops, one outer and one nested, one loops through a range in jaccard thresholds and the other loops through some popularity threshold, then i run baselinePreds4 passing in those thresholds, compute accuracies and print out the accuracies with the thresholds to see which combo gives the best result in the redesigned baseline predictor"
   ]
  },
  {
   "cell_type": "code",
   "execution_count": 33,
   "metadata": {},
   "outputs": [],
   "source": [
    "def baselinePreds4(ug_valid_build, j_th,pop_th):\n",
    "    gameCount = defaultdict(int)\n",
    "    totalPlayed = 0\n",
    "\n",
    "    for user,game,_ in readJSON(\"data/train.json.gz\"):\n",
    "        gameCount[game] += 1\n",
    "        totalPlayed += 1\n",
    "\n",
    "    mostPopular = [(gameCount[x], x) for x in gameCount]\n",
    "    mostPopular.sort()\n",
    "    mostPopular.reverse()\n",
    "\n",
    "    return1 = set()\n",
    "    count = 0\n",
    "    for ic, i in mostPopular:\n",
    "        count += ic\n",
    "        return1.add(i)\n",
    "        if count > totalPlayed/pop_th: break\n",
    "\n",
    "\n",
    "#     #task 1 predictions\n",
    "#     predictions = []\n",
    "#     for user, game, _ in ug_valid_build:\n",
    "#         if game in return1:\n",
    "#             predictions.append(1)\n",
    "#         else:\n",
    "#             predictions.append(0)\n",
    "\n",
    "\n",
    "#     predictions_or = []\n",
    "#     for user, game, _ in ug_valid_build:\n",
    "#         mostSim = similarityScores(user, game)\n",
    "#         if (game in return1) or (max(mostSim) >= j_th):\n",
    "#             predictions_or.append(1)\n",
    "#         else:\n",
    "#             predictions_or.append(0)\n",
    "            \n",
    "    predictions_and = []\n",
    "    for user, game, _ in ug_valid_build:\n",
    "        mostSim = similarityScores(user, game)\n",
    "        if (game in return1):\n",
    "            predictions_and.append(1)\n",
    "        else:\n",
    "            if (game not in return1) and (max(mostSim) > j_th):\n",
    "                predictions_and.append(1)\n",
    "            else:\n",
    "                predictions_and.append(0)\n",
    "    return predictions_and\n",
    "\n",
    "\n",
    "        \n"
   ]
  },
  {
   "cell_type": "code",
   "execution_count": 34,
   "metadata": {},
   "outputs": [
    {
     "name": "stdout",
     "output_type": "stream",
     "text": [
      "0.70595\n"
     ]
    }
   ],
   "source": [
    "preds_and = baselinePreds4(ug_valid_build,.048,1.51)\n",
    "and_acc = computeAccuracy(preds_and, yvalid)\n",
    "print(and_acc)"
   ]
  },
  {
   "cell_type": "markdown",
   "metadata": {},
   "source": [
    "#### Task 5"
   ]
  },
  {
   "cell_type": "markdown",
   "metadata": {},
   "source": [
    "#### Kaggle Username: anthonylimon"
   ]
  },
  {
   "cell_type": "code",
   "execution_count": 36,
   "metadata": {},
   "outputs": [],
   "source": [
    "j_th = .048\n",
    "pop_th = 1.51\n",
    "\n",
    "gameCount = defaultdict(int)\n",
    "totalPlayed = 0\n",
    "\n",
    "for user,game,_ in readJSON(\"data/train.json.gz\"):\n",
    "    gameCount[game] += 1\n",
    "    totalPlayed += 1\n",
    "\n",
    "mostPopular = [(gameCount[x], x) for x in gameCount]\n",
    "mostPopular.sort()\n",
    "mostPopular.reverse()\n",
    "\n",
    "return1 = set()\n",
    "count = 0\n",
    "for ic, i in mostPopular:\n",
    "    count += ic\n",
    "    return1.add(i)\n",
    "    if count > totalPlayed/pop_th: break\n",
    "            \n",
    "# predictions_and = []\n",
    "# for user, game, _ in ug_valid_build:\n",
    "#     mostSim = similarityScores(user, game)\n",
    "#     if (game in return1):\n",
    "#         predictions_and.append(1)\n",
    "#     else:\n",
    "#         if (game not in return1) and (max(mostSim) >= j_th):\n",
    "#             predictions_and.append(1)\n",
    "#         else:\n",
    "#             predictions_and.append(0)\n",
    "\n",
    "\n",
    "\n",
    "\n",
    "predictions = open(\"predictions_Played.txt\", 'w')\n",
    "for l in open(\"data/pairs_Played.txt\"):\n",
    "    if l.startswith(\"userID\"):\n",
    "    #header\n",
    "        predictions.write(l)\n",
    "        continue\n",
    "    u,g = l.strip().split('-')\n",
    "    mostSim = similarityScores(u,g)\n",
    "    if g in return1:\n",
    "        predictions.write(u + '-' + g + \",1\\n\")\n",
    "    else:\n",
    "    \n",
    "        if (g not in return1) and (max(mostSim) >= j_th):\n",
    "            predictions.write(u + '-' + g + \",1\\n\")\n",
    "        else:\n",
    "            predictions.write(u + '-' + g + \",0\\n\")\n",
    "\n",
    "predictions.close()"
   ]
  },
  {
   "cell_type": "markdown",
   "metadata": {},
   "source": [
    "# Tasks (Category prediction)\n",
    "### For these experiments, you may want to select a smaller dictionary size (i.e., fewer words), or a smaller training set size, if the experiments are taking too long to run.\n",
    "\n",
    "#### Predict the category of a game from a review. Five categories are used for this task, which can be seen in the baseline program, namely Action, Strategy, RPG, Adventure, and Sport. Performance will be measured in terms of the fraction of correct classifications."
   ]
  },
  {
   "cell_type": "code",
   "execution_count": 37,
   "metadata": {},
   "outputs": [],
   "source": [
    "import string\n",
    "import nltk\n",
    "from nltk.stem.porter import *\n",
    "from scipy.sparse import lil_matrix"
   ]
  },
  {
   "cell_type": "code",
   "execution_count": 38,
   "metadata": {},
   "outputs": [],
   "source": [
    "train_cat_json = list(parse(\"data/train_Category.json.gz\"))"
   ]
  },
  {
   "cell_type": "code",
   "execution_count": 39,
   "metadata": {},
   "outputs": [
    {
     "data": {
      "text/plain": [
       "{'userID': 'u74382925',\n",
       " 'genre': 'Adventure',\n",
       " 'early_access': False,\n",
       " 'reviewID': 'r75487422',\n",
       " 'hours': 4.1,\n",
       " 'text': 'Short Review:\\nA good starting chapter for this series, despite the main character being annoying (for now) and a short length. The story is good and actually gets more interesting. Worth the try.\\nLong Review:\\nBlackwell Legacy is the first on the series of (supposedly) 5 games that talks about the main protagonist, Rosangela Blackwell, as being a so called Medium, and in this first chapter we get to know how her story will start and how she will meet her adventure companion Joey...and really, that\\'s really all for for now and that\\'s not a bad thing, because in a way this game wants to show how hard her new job is, and that she cannot escape her destiny as a medium.\\nMy biggest complain for this chapter, except the short length, it\\'s the main protagonist being a \"bit\" too annoying to be likeable, and most of her dialogues will always be about complaining or just be annoyed. Understandable, sure, but lighten\\' up will ya!?\\nHowever, considering that in the next installments she will be much more likeable and kind of interesting, I\\'d say give it a shot and see if you like it: if you hate this first game, you might like the next, or can always stop here.\\nI recommend it.',\n",
       " 'genreID': 3,\n",
       " 'date': '2014-02-07'}"
      ]
     },
     "execution_count": 39,
     "metadata": {},
     "output_type": "execute_result"
    }
   ],
   "source": [
    "train_cat_json[0]"
   ]
  },
  {
   "cell_type": "code",
   "execution_count": 40,
   "metadata": {},
   "outputs": [],
   "source": [
    "#review data\n",
    "data = [[d['genreID'],d['text']] for d in train_cat_json]\n",
    "\n",
    "split = 165000\n",
    "\n",
    "train = train_cat_json[:split]\n",
    "Xtrain = [[d['text']] for d in train]\n",
    "ytrain = [[d['genreID']] for d in train]\n",
    "\n",
    "validation = train_cat_json[split:]\n",
    "Xvalid = [[d['text']] for d in validation]\n",
    "yvalid = [d['genreID'] for d in validation]"
   ]
  },
  {
   "cell_type": "code",
   "execution_count": null,
   "metadata": {},
   "outputs": [],
   "source": []
  },
  {
   "cell_type": "code",
   "execution_count": 41,
   "metadata": {},
   "outputs": [
    {
     "name": "stdout",
     "output_type": "stream",
     "text": [
      "154889\n"
     ]
    }
   ],
   "source": [
    "### Ignore capitalization and remove punctuation\n",
    "\n",
    "wordCount = defaultdict(int)\n",
    "punctuation = set(string.punctuation)\n",
    "totalCount = 0\n",
    "for d in Xtrain:\n",
    "    r = ''.join([c for c in d[0].lower() if not c in punctuation])\n",
    "    for w in r.split():\n",
    "        wordCount[w] += 1\n",
    "        totalCount +=1\n",
    "\n",
    "print(len(wordCount))"
   ]
  },
  {
   "cell_type": "markdown",
   "metadata": {},
   "source": [
    "#### Task 6"
   ]
  },
  {
   "cell_type": "markdown",
   "metadata": {},
   "source": [
    "#### 1000 most common words"
   ]
  },
  {
   "cell_type": "code",
   "execution_count": 42,
   "metadata": {},
   "outputs": [
    {
     "data": {
      "text/plain": [
       "[('the', 544597),\n",
       " ('and', 317620),\n",
       " ('a', 305414),\n",
       " ('to', 291882),\n",
       " ('game', 245359),\n",
       " ('of', 227234),\n",
       " ('is', 208417),\n",
       " ('you', 200633),\n",
       " ('i', 195953),\n",
       " ('it', 190966),\n",
       " ('this', 158622),\n",
       " ('in', 132348),\n",
       " ('that', 115044),\n",
       " ('for', 105210),\n",
       " ('but', 100985),\n",
       " ('with', 91007),\n",
       " ('its', 83631),\n",
       " ('are', 77355),\n",
       " ('on', 72366),\n",
       " ('as', 69754),\n",
       " ('not', 65475),\n",
       " ('have', 63625),\n",
       " ('if', 58019),\n",
       " ('like', 57252),\n",
       " ('be', 56116),\n",
       " ('can', 50151),\n",
       " ('so', 48201),\n",
       " ('your', 47720),\n",
       " ('was', 46825),\n",
       " ('just', 45696),\n",
       " ('or', 45686),\n",
       " ('all', 45297),\n",
       " ('good', 45152),\n",
       " ('more', 42838),\n",
       " ('one', 42197),\n",
       " ('at', 41525),\n",
       " ('play', 40611),\n",
       " ('get', 39537),\n",
       " ('my', 38847),\n",
       " ('games', 37677),\n",
       " ('there', 37202),\n",
       " ('fun', 36986),\n",
       " ('really', 36441),\n",
       " ('some', 35836),\n",
       " ('an', 35701),\n",
       " ('very', 35477),\n",
       " ('from', 34854),\n",
       " ('time', 32421),\n",
       " ('will', 32065),\n",
       " ('they', 31200),\n",
       " ('me', 30495),\n",
       " ('has', 30323),\n",
       " ('great', 30314),\n",
       " ('out', 29522),\n",
       " ('up', 29314),\n",
       " ('story', 29273),\n",
       " ('no', 28975),\n",
       " ('even', 27341),\n",
       " ('only', 25972),\n",
       " ('what', 25911),\n",
       " ('dont', 25675),\n",
       " ('do', 25627),\n",
       " ('which', 25568),\n",
       " ('when', 25293),\n",
       " ('about', 24393),\n",
       " ('much', 23984),\n",
       " ('would', 23780),\n",
       " ('by', 22763),\n",
       " ('still', 21979),\n",
       " ('well', 21797),\n",
       " ('than', 21644),\n",
       " ('also', 21088),\n",
       " ('first', 21085),\n",
       " ('them', 19560),\n",
       " ('because', 19217),\n",
       " ('other', 18936),\n",
       " ('played', 18878),\n",
       " ('then', 18826),\n",
       " ('gameplay', 18395),\n",
       " ('into', 18069),\n",
       " ('best', 17463),\n",
       " ('playing', 17196),\n",
       " ('too', 17176),\n",
       " ('make', 17134),\n",
       " ('way', 16600),\n",
       " ('how', 16345),\n",
       " ('most', 16149),\n",
       " ('better', 15721),\n",
       " ('had', 15622),\n",
       " ('pretty', 15607),\n",
       " ('new', 15544),\n",
       " ('2', 15473),\n",
       " ('people', 15043),\n",
       " ('any', 14772),\n",
       " ('lot', 14727),\n",
       " ('now', 14662),\n",
       " ('after', 14539),\n",
       " ('while', 14286),\n",
       " ('where', 14277),\n",
       " ('want', 14166),\n",
       " ('im', 13751),\n",
       " ('hours', 13709),\n",
       " ('graphics', 13660),\n",
       " ('many', 13608),\n",
       " ('who', 13512),\n",
       " ('go', 13410),\n",
       " ('bad', 13345),\n",
       " ('recommend', 13094),\n",
       " ('over', 13058),\n",
       " ('through', 13043),\n",
       " ('worth', 13035),\n",
       " ('little', 12738),\n",
       " ('buy', 12665),\n",
       " ('love', 12408),\n",
       " ('feel', 12330),\n",
       " ('1', 12150),\n",
       " ('youre', 12097),\n",
       " ('though', 12060),\n",
       " ('every', 11982),\n",
       " ('cant', 11955),\n",
       " ('their', 11948),\n",
       " ('being', 11870),\n",
       " ('few', 11800),\n",
       " ('think', 11689),\n",
       " ('could', 11667),\n",
       " ('been', 11620),\n",
       " ('say', 11619),\n",
       " ('see', 11576),\n",
       " ('ever', 11569),\n",
       " ('level', 11568),\n",
       " ('got', 11488),\n",
       " ('characters', 11297),\n",
       " ('things', 11179),\n",
       " ('3', 11128),\n",
       " ('back', 11074),\n",
       " ('bit', 11049),\n",
       " ('same', 10955),\n",
       " ('ive', 10838),\n",
       " ('nice', 10771),\n",
       " ('around', 10763),\n",
       " ('find', 10757),\n",
       " ('made', 10735),\n",
       " ('different', 10679),\n",
       " ('were', 10566),\n",
       " ('know', 10420),\n",
       " ('again', 10377),\n",
       " ('never', 10129),\n",
       " ('something', 9820),\n",
       " ('should', 9745),\n",
       " ('off', 9617),\n",
       " ('theres', 9558),\n",
       " ('need', 9466),\n",
       " ('thing', 9336),\n",
       " ('each', 9266),\n",
       " ('hard', 9225),\n",
       " ('experience', 9224),\n",
       " ('amazing', 9160),\n",
       " ('thats', 9141),\n",
       " ('end', 9118),\n",
       " ('actually', 9083),\n",
       " ('doesnt', 9064),\n",
       " ('down', 9048),\n",
       " ('world', 9039),\n",
       " ('enough', 8937),\n",
       " ('take', 8884),\n",
       " ('short', 8868),\n",
       " ('those', 8767),\n",
       " ('before', 8740),\n",
       " ('give', 8708),\n",
       " ('interesting', 8638),\n",
       " ('going', 8623),\n",
       " ('makes', 8612),\n",
       " ('use', 8609),\n",
       " ('does', 8607),\n",
       " ('free', 8589),\n",
       " ('quite', 8579),\n",
       " ('right', 8565),\n",
       " ('character', 8510),\n",
       " ('work', 8461),\n",
       " ('times', 8459),\n",
       " ('long', 8298),\n",
       " ('these', 8288),\n",
       " ('system', 8280),\n",
       " ('levels', 8224),\n",
       " ('player', 8162),\n",
       " ('did', 8122),\n",
       " ('since', 8121),\n",
       " ('enemies', 8094),\n",
       " ('however', 8077),\n",
       " ('far', 8053),\n",
       " ('isnt', 8052),\n",
       " ('try', 7997),\n",
       " ('everything', 7987),\n",
       " ('point', 7934),\n",
       " ('music', 7872),\n",
       " ('here', 7822),\n",
       " ('old', 7791),\n",
       " ('look', 7763),\n",
       " ('kill', 7715),\n",
       " ('combat', 7687),\n",
       " ('steam', 7610),\n",
       " ('weapons', 7474),\n",
       " ('two', 7467),\n",
       " ('didnt', 7446),\n",
       " ('overall', 7439),\n",
       " ('without', 7407),\n",
       " ('series', 7379),\n",
       " ('why', 7327),\n",
       " ('easy', 7326),\n",
       " ('multiplayer', 7324),\n",
       " ('1010', 7304),\n",
       " ('own', 7247),\n",
       " ('players', 7235),\n",
       " ('start', 7190),\n",
       " ('nothing', 7178),\n",
       " ('money', 7150),\n",
       " ('youll', 6994),\n",
       " ('review', 6979),\n",
       " ('enjoy', 6905),\n",
       " ('awesome', 6869),\n",
       " ('mode', 6833),\n",
       " ('another', 6700),\n",
       " ('once', 6675),\n",
       " ('feels', 6647),\n",
       " ('such', 6629),\n",
       " ('puzzles', 6528),\n",
       " ('original', 6488),\n",
       " ('we', 6457),\n",
       " ('may', 6396),\n",
       " ('price', 6384),\n",
       " ('simple', 6333),\n",
       " ('4', 6315),\n",
       " ('sure', 6265),\n",
       " ('probably', 6229),\n",
       " ('run', 6222),\n",
       " ('real', 6168),\n",
       " ('always', 6156),\n",
       " ('might', 6150),\n",
       " ('getting', 6117),\n",
       " ('style', 6091),\n",
       " ('part', 6077),\n",
       " ('keep', 6046),\n",
       " ('5', 5984),\n",
       " ('fps', 5956),\n",
       " ('friends', 5875),\n",
       " ('full', 5830),\n",
       " ('sale', 5813),\n",
       " ('looking', 5807),\n",
       " ('anything', 5760),\n",
       " ('yes', 5743),\n",
       " ('10', 5716),\n",
       " ('controls', 5680),\n",
       " ('he', 5628),\n",
       " ('years', 5621),\n",
       " ('am', 5618),\n",
       " ('having', 5538),\n",
       " ('design', 5481),\n",
       " ('life', 5476),\n",
       " ('mechanics', 5472),\n",
       " ('done', 5433),\n",
       " ('cool', 5417),\n",
       " ('almost', 5384),\n",
       " ('his', 5327),\n",
       " ('pc', 5321),\n",
       " ('super', 5281),\n",
       " ('yet', 5276),\n",
       " ('shooter', 5186),\n",
       " ('kind', 5173),\n",
       " ('least', 5152),\n",
       " ('definitely', 5107),\n",
       " ('main', 5096),\n",
       " ('enemy', 5094),\n",
       " ('last', 5087),\n",
       " ('ai', 5074),\n",
       " ('put', 5070),\n",
       " ('version', 5065),\n",
       " ('less', 5064),\n",
       " ('come', 5059),\n",
       " ('id', 5041),\n",
       " ('gets', 5038),\n",
       " ('found', 5026),\n",
       " ('until', 5004),\n",
       " ('action', 4974),\n",
       " ('dead', 4943),\n",
       " ('boring', 4942),\n",
       " ('sometimes', 4908),\n",
       " ('big', 4901),\n",
       " ('single', 4874),\n",
       " ('trying', 4861),\n",
       " ('both', 4792),\n",
       " ('maybe', 4791),\n",
       " ('making', 4778),\n",
       " ('unique', 4771),\n",
       " ('instead', 4744),\n",
       " ('must', 4742),\n",
       " ('stuff', 4738),\n",
       " ('difficulty', 4706),\n",
       " ('seems', 4702),\n",
       " ('content', 4655),\n",
       " ('rather', 4622),\n",
       " ('art', 4603),\n",
       " ('looks', 4568),\n",
       " ('map', 4564),\n",
       " ('day', 4563),\n",
       " ('whole', 4550),\n",
       " ('especially', 4505),\n",
       " ('fan', 4502),\n",
       " ('used', 4495),\n",
       " ('next', 4493),\n",
       " ('said', 4441),\n",
       " ('either', 4440),\n",
       " ('able', 4440),\n",
       " ('campaign', 4438),\n",
       " ('between', 4423),\n",
       " ('away', 4417),\n",
       " ('puzzle', 4402),\n",
       " ('voice', 4289),\n",
       " ('sound', 4282),\n",
       " ('wont', 4256),\n",
       " ('already', 4251),\n",
       " ('fast', 4240),\n",
       " ('missions', 4238),\n",
       " ('classic', 4213),\n",
       " ('war', 4186),\n",
       " ('complete', 4179),\n",
       " ('adventure', 4170),\n",
       " ('decent', 4152),\n",
       " ('everyone', 4113),\n",
       " ('reason', 4103),\n",
       " ('maps', 4096),\n",
       " ('takes', 4085),\n",
       " ('space', 4068),\n",
       " ('enjoyed', 4068),\n",
       " ('issues', 4034),\n",
       " ('die', 4006),\n",
       " ('based', 4004),\n",
       " ('team', 3994),\n",
       " ('minutes', 3983),\n",
       " ('itself', 3975),\n",
       " ('problem', 3971),\n",
       " ('anyone', 3966),\n",
       " ('person', 3960),\n",
       " ('difficult', 3959),\n",
       " ('set', 3939),\n",
       " ('wait', 3937),\n",
       " ('online', 3911),\n",
       " ('high', 3858),\n",
       " ('yourself', 3854),\n",
       " ('highly', 3853),\n",
       " ('enjoyable', 3837),\n",
       " ('help', 3821),\n",
       " ('amount', 3817),\n",
       " ('dlc', 3811),\n",
       " ('thought', 3795),\n",
       " ('half', 3778),\n",
       " ('soundtrack', 3777),\n",
       " ('bugs', 3774),\n",
       " ('doing', 3742),\n",
       " ('beautiful', 3740),\n",
       " ('turn', 3739),\n",
       " ('using', 3736),\n",
       " ('small', 3727),\n",
       " ('side', 3726),\n",
       " ('lots', 3721),\n",
       " ('although', 3676),\n",
       " ('change', 3672),\n",
       " ('simply', 3663),\n",
       " ('fact', 3658),\n",
       " ('second', 3633),\n",
       " ('hell', 3626),\n",
       " ('let', 3608),\n",
       " ('place', 3599),\n",
       " ('bought', 3588),\n",
       " ('pay', 3569),\n",
       " ('often', 3536),\n",
       " ('left', 3534),\n",
       " ('early', 3514),\n",
       " ('items', 3511),\n",
       " ('pick', 3486),\n",
       " ('fight', 3469),\n",
       " ('build', 3469),\n",
       " ('fantastic', 3469),\n",
       " ('strategy', 3460),\n",
       " ('beat', 3430),\n",
       " ('challenging', 3416),\n",
       " ('basically', 3406),\n",
       " ('else', 3399),\n",
       " ('hit', 3364),\n",
       " ('community', 3352),\n",
       " ('save', 3351),\n",
       " ('during', 3349),\n",
       " ('later', 3341),\n",
       " ('add', 3331),\n",
       " ('idea', 3312),\n",
       " ('felt', 3284),\n",
       " ('certain', 3268),\n",
       " ('control', 3265),\n",
       " ('seen', 3256),\n",
       " ('completely', 3252),\n",
       " ('solid', 3248),\n",
       " ('someone', 3245),\n",
       " ('extremely', 3237),\n",
       " ('ending', 3234),\n",
       " ('move', 3226),\n",
       " ('perfect', 3224),\n",
       " ('huge', 3216),\n",
       " ('screen', 3210),\n",
       " ('absolutely', 3208),\n",
       " ('genre', 3192),\n",
       " ('top', 3184),\n",
       " ('title', 3178),\n",
       " ('open', 3176),\n",
       " ('mind', 3174),\n",
       " ('etc', 3172),\n",
       " ('call', 3171),\n",
       " ('mission', 3167),\n",
       " ('guns', 3152),\n",
       " ('seem', 3151),\n",
       " ('weapon', 3146),\n",
       " ('against', 3146),\n",
       " ('final', 3145),\n",
       " ('fighting', 3145),\n",
       " ('ok', 3140),\n",
       " ('sense', 3121),\n",
       " ('boss', 3121),\n",
       " ('cons', 3119),\n",
       " ('havent', 3112),\n",
       " ('expect', 3111),\n",
       " ('comes', 3110),\n",
       " ('gun', 3105),\n",
       " ('atmosphere', 3087),\n",
       " ('tell', 3064),\n",
       " ('plot', 3059),\n",
       " ('developers', 3047),\n",
       " ('points', 3042),\n",
       " ('annoying', 3031),\n",
       " ('building', 3024),\n",
       " ('shoot', 3023),\n",
       " ('♥♥♥♥ing', 3021),\n",
       " ('win', 3015),\n",
       " ('click', 3014),\n",
       " ('myself', 3011),\n",
       " ('dark', 3008),\n",
       " ('acting', 2996),\n",
       " ('arent', 2994),\n",
       " ('rpg', 2993),\n",
       " ('oh', 2977),\n",
       " ('liked', 2974),\n",
       " ('slow', 2966),\n",
       " ('options', 2964),\n",
       " ('pros', 2946),\n",
       " ('wrong', 2942),\n",
       " ('works', 2941),\n",
       " ('excellent', 2932),\n",
       " ('needs', 2925),\n",
       " ('him', 2923),\n",
       " ('ill', 2921),\n",
       " ('took', 2916),\n",
       " ('mostly', 2910),\n",
       " ('others', 2893),\n",
       " ('hope', 2865),\n",
       " ('mods', 2860),\n",
       " ('mean', 2860),\n",
       " ('choose', 2853),\n",
       " ('hour', 2834),\n",
       " ('variety', 2827),\n",
       " ('easily', 2824),\n",
       " ('support', 2823),\n",
       " ('type', 2812),\n",
       " ('wasnt', 2810),\n",
       " ('terrible', 2809),\n",
       " ('challenge', 2808),\n",
       " ('came', 2800),\n",
       " ('three', 2791),\n",
       " ('battle', 2791),\n",
       " ('problems', 2786),\n",
       " ('year', 2784),\n",
       " ('unless', 2776),\n",
       " ('due', 2770),\n",
       " ('release', 2755),\n",
       " ('loved', 2748),\n",
       " ('lack', 2740),\n",
       " ('shooting', 2737),\n",
       " ('coop', 2737),\n",
       " ('running', 2736),\n",
       " ('choices', 2732),\n",
       " ('ways', 2721),\n",
       " ('opinion', 2708),\n",
       " ('wish', 2701),\n",
       " ('features', 2698),\n",
       " ('entire', 2691),\n",
       " ('funny', 2689),\n",
       " ('favorite', 2687),\n",
       " ('city', 2684),\n",
       " ('wanted', 2669),\n",
       " ('100', 2669),\n",
       " ('recommended', 2665),\n",
       " ('days', 2658),\n",
       " ('previous', 2657),\n",
       " ('understand', 2652),\n",
       " ('stop', 2641),\n",
       " ('youve', 2641),\n",
       " ('reviews', 2640),\n",
       " ('learn', 2632),\n",
       " ('special', 2631),\n",
       " ('become', 2627),\n",
       " ('fine', 2627),\n",
       " ('theyre', 2626),\n",
       " ('her', 2625),\n",
       " ('random', 2590),\n",
       " ('finish', 2587),\n",
       " ('zombies', 2586),\n",
       " ('base', 2584),\n",
       " ('video', 2580),\n",
       " ('goes', 2575),\n",
       " ('similar', 2572),\n",
       " ('buying', 2570),\n",
       " ('means', 2567),\n",
       " ('spend', 2567),\n",
       " ('20', 2563),\n",
       " ('devs', 2559),\n",
       " ('despite', 2555),\n",
       " ('fix', 2553),\n",
       " ('frustrating', 2553),\n",
       " ('achievements', 2550),\n",
       " ('attack', 2526),\n",
       " ('started', 2525),\n",
       " ('couple', 2524),\n",
       " ('along', 2521),\n",
       " ('feeling', 2516),\n",
       " ('past', 2511),\n",
       " ('order', 2510),\n",
       " ('fans', 2507),\n",
       " ('jump', 2507),\n",
       " ('together', 2504),\n",
       " ('gives', 2502),\n",
       " ('ones', 2493),\n",
       " ('stealth', 2490),\n",
       " ('guess', 2489),\n",
       " ('cannot', 2487),\n",
       " ('it’s', 2486),\n",
       " ('units', 2484),\n",
       " ('course', 2482),\n",
       " ('modern', 2475),\n",
       " ('low', 2448),\n",
       " ('horror', 2431),\n",
       " ('remember', 2428),\n",
       " ('alien', 2424),\n",
       " ('plays', 2422),\n",
       " ('cards', 2414),\n",
       " ('elements', 2413),\n",
       " ('lets', 2412),\n",
       " ('quickly', 2407),\n",
       " ('several', 2396),\n",
       " ('please', 2395),\n",
       " ('honestly', 2393),\n",
       " ('killing', 2392),\n",
       " ('fire', 2392),\n",
       " ('finally', 2380),\n",
       " ('released', 2380),\n",
       " ('job', 2367),\n",
       " ('example', 2361),\n",
       " ('read', 2360),\n",
       " ('tried', 2354),\n",
       " ('given', 2350),\n",
       " ('us', 2350),\n",
       " ('hot', 2350),\n",
       " ('access', 2349),\n",
       " ('hate', 2347),\n",
       " ('parts', 2347),\n",
       " ('man', 2344),\n",
       " ('worst', 2342),\n",
       " ('death', 2340),\n",
       " ('alot', 2336),\n",
       " ('matter', 2335),\n",
       " ('finished', 2331),\n",
       " ('fallout', 2331),\n",
       " ('wouldnt', 2329),\n",
       " ('spent', 2328),\n",
       " ('servers', 2319),\n",
       " ('doom', 2318),\n",
       " ('mod', 2317),\n",
       " ('♥♥♥♥', 2316),\n",
       " ('kinda', 2306),\n",
       " ('lost', 2299),\n",
       " ('engine', 2286),\n",
       " ('sort', 2280),\n",
       " ('sounds', 2272),\n",
       " ('longer', 2270),\n",
       " ('update', 2268),\n",
       " ('setting', 2268),\n",
       " ('quality', 2254),\n",
       " ('friend', 2249),\n",
       " ('6', 2243),\n",
       " ('actual', 2237),\n",
       " ('controller', 2234),\n",
       " ('shot', 2224),\n",
       " ('possible', 2224),\n",
       " ('810', 2222),\n",
       " ('repetitive', 2222),\n",
       " ('runs', 2196),\n",
       " ('unlock', 2190),\n",
       " ('walking', 2190),\n",
       " ('cheap', 2180),\n",
       " ('true', 2175),\n",
       " ('button', 2170),\n",
       " ('multiple', 2165),\n",
       " ('issue', 2161),\n",
       " ('went', 2156),\n",
       " ('mouse', 2150),\n",
       " ('added', 2146),\n",
       " ('value', 2142),\n",
       " ('skill', 2138),\n",
       " ('choice', 2128),\n",
       " ('except', 2127),\n",
       " ('fairly', 2127),\n",
       " ('910', 2121),\n",
       " ('care', 2121),\n",
       " ('total', 2121),\n",
       " ('sequel', 2117),\n",
       " ('storyline', 2117),\n",
       " ('star', 2113),\n",
       " ('simulator', 2109),\n",
       " ('rts', 2104),\n",
       " ('modes', 2098),\n",
       " ('room', 2094),\n",
       " ('gaming', 2092),\n",
       " ('progress', 2091),\n",
       " ('max', 2091),\n",
       " ('battles', 2088),\n",
       " ('close', 2079),\n",
       " ('ship', 2075),\n",
       " ('d', 2068),\n",
       " ('damage', 2067),\n",
       " ('areas', 2061),\n",
       " ('basic', 2060),\n",
       " ('seriously', 2044),\n",
       " ('behind', 2043),\n",
       " ('yeah', 2043),\n",
       " ('okay', 2041),\n",
       " ('usually', 2038),\n",
       " ('sucks', 2030),\n",
       " ('port', 2026),\n",
       " ('available', 2019),\n",
       " ('30', 2018),\n",
       " ('couldnt', 2015),\n",
       " ('future', 2001),\n",
       " ('check', 1997),\n",
       " ('number', 1996),\n",
       " ('settings', 1989),\n",
       " ('ability', 1985),\n",
       " ('line', 1979),\n",
       " ('coming', 1977),\n",
       " ('quick', 1974),\n",
       " ('literally', 1969),\n",
       " ('concept', 1965),\n",
       " ('truly', 1960),\n",
       " ('guy', 1958),\n",
       " ('replay', 1955),\n",
       " ('zombie', 1954),\n",
       " ('broken', 1952),\n",
       " ('stuck', 1948),\n",
       " ('effects', 1947),\n",
       " ('black', 1940),\n",
       " ('poor', 1931),\n",
       " ('large', 1928),\n",
       " ('dialogue', 1927),\n",
       " ('within', 1912),\n",
       " ('stupid', 1910),\n",
       " ('visuals', 1907),\n",
       " ('hand', 1900),\n",
       " ('damn', 1891),\n",
       " ('watch', 1890),\n",
       " ('u', 1890),\n",
       " ('worse', 1890),\n",
       " ('limited', 1887),\n",
       " ('platformer', 1884),\n",
       " ('option', 1878),\n",
       " ('writing', 1878),\n",
       " ('exactly', 1877),\n",
       " ('ago', 1877),\n",
       " ('power', 1874),\n",
       " ('quests', 1871),\n",
       " ('giving', 1868),\n",
       " ('match', 1868),\n",
       " ('otherwise', 1867),\n",
       " ('plenty', 1867),\n",
       " ('incredibly', 1859),\n",
       " ('certainly', 1854),\n",
       " ('plus', 1853),\n",
       " ('normal', 1852),\n",
       " ('survival', 1848),\n",
       " ('god', 1847),\n",
       " ('anyway', 1844),\n",
       " ('weird', 1842),\n",
       " ('health', 1838),\n",
       " ('waste', 1834),\n",
       " ('negative', 1822),\n",
       " ('head', 1811),\n",
       " ('personally', 1809),\n",
       " ('various', 1806),\n",
       " ('deal', 1805),\n",
       " ('7', 1802),\n",
       " ('create', 1801),\n",
       " ('compared', 1799),\n",
       " ('8', 1787),\n",
       " ('guys', 1785),\n",
       " ('taking', 1782),\n",
       " ('third', 1780),\n",
       " ('events', 1778),\n",
       " ('score', 1778),\n",
       " ('15', 1777),\n",
       " ('speed', 1777),\n",
       " ('somewhat', 1771),\n",
       " ('moments', 1770),\n",
       " ('unfortunately', 1770),\n",
       " ('totally', 1766),\n",
       " ('rest', 1759),\n",
       " ('area', 1759),\n",
       " ('wars', 1757),\n",
       " ('chance', 1753),\n",
       " ('forward', 1751),\n",
       " ('shooters', 1749),\n",
       " ('face', 1742),\n",
       " ('franchise', 1738),\n",
       " ('explore', 1732),\n",
       " ('killed', 1730),\n",
       " ('computer', 1728),\n",
       " ('fixed', 1726),\n",
       " ('throughout', 1723),\n",
       " ('show', 1722),\n",
       " ('extra', 1719),\n",
       " ('abilities', 1719),\n",
       " ('skills', 1718),\n",
       " ('satisfying', 1715),\n",
       " ('sonic', 1710),\n",
       " ('potential', 1710),\n",
       " ('under', 1704),\n",
       " ('believe', 1694),\n",
       " ('soon', 1687),\n",
       " ('alone', 1686),\n",
       " ('important', 1672),\n",
       " ('halflife', 1667),\n",
       " ('episode', 1667),\n",
       " ('cause', 1661),\n",
       " ('called', 1657),\n",
       " ('she', 1657),\n",
       " ('civ', 1654),\n",
       " ('deep', 1654),\n",
       " ('changes', 1652),\n",
       " ('designed', 1651),\n",
       " ('indie', 1650),\n",
       " ('general', 1648),\n",
       " ('age', 1645),\n",
       " ('desu', 1644),\n",
       " ('whats', 1639),\n",
       " ('tutorial', 1634),\n",
       " ('serious', 1632),\n",
       " ('xcom', 1629),\n",
       " ('moment', 1628),\n",
       " ('upgrade', 1624),\n",
       " ('server', 1622),\n",
       " ('waiting', 1614),\n",
       " ('mechanic', 1611),\n",
       " ('crap', 1603),\n",
       " ('season', 1603),\n",
       " ('piece', 1599),\n",
       " ('animations', 1597),\n",
       " ('cutscenes', 1592),\n",
       " ('purchase', 1590),\n",
       " ('tons', 1588),\n",
       " ('lose', 1584),\n",
       " ('depth', 1584),\n",
       " ('light', 1583),\n",
       " ('working', 1579),\n",
       " ('name', 1573),\n",
       " ('whatever', 1573),\n",
       " ('types', 1571),\n",
       " ('major', 1567),\n",
       " ('710', 1564),\n",
       " ('gone', 1563),\n",
       " ('linear', 1563),\n",
       " ('saying', 1554),\n",
       " ('case', 1549),\n",
       " ('horrible', 1547),\n",
       " ('figure', 1547),\n",
       " ('leave', 1544),\n",
       " ('duty', 1543),\n",
       " ('home', 1542),\n",
       " ('our', 1541),\n",
       " ('ships', 1539),\n",
       " ('cod', 1538),\n",
       " ('menu', 1536),\n",
       " ('movement', 1535),\n",
       " ('clear', 1532),\n",
       " ('beginning', 1528),\n",
       " ('needed', 1526),\n",
       " ('visual', 1523),\n",
       " ('3d', 1522),\n",
       " ('keyboard', 1522),\n",
       " ('hidden', 1521),\n",
       " ('gave', 1520),\n",
       " ('realistic', 1518),\n",
       " ('crashes', 1518),\n",
       " ('card', 1513),\n",
       " ('force', 1512),\n",
       " ('casual', 1510),\n",
       " ('offer', 1507),\n",
       " ('walk', 1506),\n",
       " ('becomes', 1505),\n",
       " ('constantly', 1504),\n",
       " ('playthrough', 1501),\n",
       " ('bored', 1501),\n",
       " ('cover', 1497),\n",
       " ('red', 1497),\n",
       " ('across', 1493),\n",
       " ('sniper', 1485),\n",
       " ('hold', 1482),\n",
       " ('adds', 1481),\n",
       " ('edit', 1481),\n",
       " ('feature', 1480),\n",
       " ('fantasy', 1480),\n",
       " ('arcade', 1477),\n",
       " ('strong', 1470),\n",
       " ('happy', 1467),\n",
       " ('thanks', 1467),\n",
       " ('thinking', 1466),\n",
       " ('awful', 1462),\n",
       " ('key', 1462),\n",
       " ('rating', 1459),\n",
       " ('updates', 1455),\n",
       " ('moving', 1452),\n",
       " ('impossible', 1450),\n",
       " ('development', 1448),\n",
       " ('note', 1440),\n",
       " ('bring', 1440),\n",
       " ('break', 1440),\n",
       " ('bosses', 1438),\n",
       " ('miss', 1436),\n",
       " ('developer', 1435),\n",
       " ('gold', 1435),\n",
       " ('starts', 1434),\n",
       " ('ha', 1432),\n",
       " ('classes', 1428),\n",
       " ('slightly', 1427),\n",
       " ('addition', 1423),\n",
       " ('higher', 1423),\n",
       " ('paid', 1420),\n",
       " ('unlike', 1418),\n",
       " ('edition', 1418),\n",
       " ('follow', 1417),\n",
       " ('expected', 1414),\n",
       " ('crazy', 1414),\n",
       " ('environment', 1414),\n",
       " ('missing', 1413),\n",
       " ('upgrades', 1413),\n",
       " ('fair', 1411),\n",
       " ('further', 1409),\n",
       " ('aliens', 1408),\n",
       " ('titles', 1405),\n",
       " ('quest', 1405),\n",
       " ('house', 1404),\n",
       " ('happen', 1399),\n",
       " ('entertaining', 1399),\n",
       " ('addictive', 1396),\n",
       " ('movie', 1395),\n",
       " ('easier', 1392),\n",
       " ('harder', 1392),\n",
       " ('aspect', 1389),\n",
       " ('ammo', 1388),\n",
       " ('attention', 1387),\n",
       " ('focus', 1387),\n",
       " ('school', 1386),\n",
       " ('current', 1385),\n",
       " ('near', 1385),\n",
       " ('keeps', 1385),\n",
       " ('blood', 1384),\n",
       " ('anymore', 1380),\n",
       " ('ingame', 1379),\n",
       " ('core', 1377),\n",
       " ('effect', 1377),\n",
       " ('above', 1377),\n",
       " ('fights', 1374),\n",
       " ('avoid', 1371),\n",
       " ('turns', 1371),\n",
       " ('magic', 1371),\n",
       " ('massive', 1370),\n",
       " ('humor', 1370),\n",
       " ('expansion', 1368),\n",
       " ('epic', 1363),\n",
       " ('class', 1360),\n",
       " ('moves', 1359),\n",
       " ('sadly', 1358),\n",
       " ('seconds', 1358),\n",
       " ('learning', 1352),\n",
       " ('stay', 1343),\n",
       " ('mention', 1343),\n",
       " ('none', 1343),\n",
       " ('gonna', 1342),\n",
       " ('wow', 1339),\n",
       " ('monsters', 1330),\n",
       " ('grind', 1327),\n",
       " ('physics', 1327),\n",
       " ('telltale', 1326),\n",
       " ('beyond', 1322),\n",
       " ('themselves', 1321),\n",
       " ('improved', 1318),\n",
       " ('sad', 1315),\n",
       " ('including', 1315),\n",
       " ('told', 1315),\n",
       " ('attacks', 1315),\n",
       " ('standard', 1315),\n",
       " ('upon', 1314),\n",
       " ('balance', 1311),\n",
       " ('scenes', 1311),\n",
       " ('fear', 1309),\n",
       " ('interested', 1309),\n",
       " ('pass', 1309),\n",
       " ('bullet', 1309),\n",
       " ('allows', 1308),\n",
       " ('reading', 1307),\n",
       " ('windows', 1304),\n",
       " ('smooth', 1299),\n",
       " ('ii', 1299),\n",
       " ('terms', 1298),\n",
       " ('whether', 1297),\n",
       " ('replayability', 1297),\n",
       " ('minor', 1295),\n",
       " ('talk', 1295),\n",
       " ('complex', 1293),\n",
       " ('straight', 1291),\n",
       " ('supposed', 1289),\n",
       " ('saw', 1286),\n",
       " ('narrative', 1286),\n",
       " ('perhaps', 1286),\n",
       " ('2d', 1286),\n",
       " ('offers', 1285),\n",
       " ('likely', 1285),\n",
       " ('aside', 1284),\n",
       " ('rate', 1274),\n",
       " ('stories', 1274),\n",
       " ('decided', 1274),\n",
       " ('starting', 1270),\n",
       " ('bunch', 1270),\n",
       " ('12', 1270),\n",
       " ('camera', 1270),\n",
       " ('hitman', 1268),\n",
       " ('car', 1267),\n",
       " ('biggest', 1266),\n",
       " ('nearly', 1266),\n",
       " ('singleplayer', 1265),\n",
       " ('wonderful', 1264),\n",
       " ('today', 1263),\n",
       " ('requires', 1258),\n",
       " ('happens', 1258),\n",
       " ('tactical', 1258),\n",
       " ('evil', 1257),\n",
       " ('four', 1257),\n",
       " ('challenges', 1255),\n",
       " ('chapter', 1252),\n",
       " ('changed', 1252),\n",
       " ('fully', 1250),\n",
       " ('live', 1246),\n",
       " ('seeing', 1246),\n",
       " ('personal', 1246),\n",
       " ('finding', 1246),\n",
       " ('perfectly', 1240),\n",
       " ('paced', 1239),\n",
       " ('playable', 1238),\n",
       " ('considering', 1237),\n",
       " ('cute', 1233),\n",
       " ('lol', 1231),\n",
       " ('stand', 1229),\n",
       " ('resources', 1229),\n",
       " ('party', 1226),\n",
       " ('master', 1225),\n",
       " ('entirely', 1224),\n",
       " ('bug', 1222),\n",
       " ('towards', 1221),\n",
       " ('brilliant', 1220),\n",
       " ('solve', 1219),\n",
       " ('melee', 1218),\n",
       " ('average', 1218),\n",
       " ('50', 1217),\n",
       " ('continue', 1214),\n",
       " ('direction', 1206),\n",
       " ('universe', 1204),\n",
       " ('cut', 1202),\n",
       " ('eventually', 1201),\n",
       " ('wall', 1197),\n",
       " ('reccomend', 1197),\n",
       " ('require', 1197),\n",
       " ('step', 1194),\n",
       " ('item', 1192),\n",
       " ('objects', 1192),\n",
       " ('heard', 1190),\n",
       " ('planet', 1188),\n",
       " ('stick', 1187),\n",
       " ('heavy', 1187),\n",
       " ('positive', 1186)]"
      ]
     },
     "execution_count": 42,
     "metadata": {},
     "output_type": "execute_result"
    }
   ],
   "source": [
    "#top 1000 most frequent words in training set\n",
    "sorted(wordCount.items(),key=lambda v: v[1],reverse=True)[:1000]"
   ]
  },
  {
   "cell_type": "markdown",
   "metadata": {},
   "source": [
    "#### top 10 words and their frequencies"
   ]
  },
  {
   "cell_type": "code",
   "execution_count": 43,
   "metadata": {},
   "outputs": [
    {
     "data": {
      "text/plain": [
       "[('the', 0.047446967093177694),\n",
       " ('and', 0.02767203214144606),\n",
       " ('a', 0.02660860784726279),\n",
       " ('to', 0.025429658351204455),\n",
       " ('game', 0.021376431377725155),\n",
       " ('of', 0.019797325582864286),\n",
       " ('is', 0.018157930617794103),\n",
       " ('you', 0.017479764576017718),\n",
       " ('i', 0.01707202856939985),\n",
       " ('it', 0.016637545777732472)]"
      ]
     },
     "execution_count": 43,
     "metadata": {},
     "output_type": "execute_result"
    }
   ],
   "source": [
    "#top 10 words and frequencies\n",
    "wordFreq = {k : v /totalCount for k,v in wordCount.items()}\n",
    "mostCommon1000_wf = sorted(wordFreq.items(),key=lambda v: v[1] / totalCount,reverse=True)[:1000]\n",
    "\n",
    "\n",
    "top10 = mostCommon1000_wf[:10] \n",
    "top10"
   ]
  },
  {
   "cell_type": "code",
   "execution_count": 44,
   "metadata": {},
   "outputs": [],
   "source": [
    "mostCommon1000words = [w for w,f in mostCommon1000_wf]"
   ]
  },
  {
   "cell_type": "code",
   "execution_count": 45,
   "metadata": {},
   "outputs": [
    {
     "data": {
      "text/plain": [
       "1000"
      ]
     },
     "execution_count": 45,
     "metadata": {},
     "output_type": "execute_result"
    }
   ],
   "source": [
    "len(mostCommon1000words)"
   ]
  },
  {
   "cell_type": "markdown",
   "metadata": {},
   "source": [
    "#### Task 7"
   ]
  },
  {
   "cell_type": "code",
   "execution_count": 46,
   "metadata": {},
   "outputs": [],
   "source": [
    "wordId = dict(zip(mostCommon1000words, range(len(mostCommon1000words))))\n",
    "wordSet = set(mostCommon1000words)\n",
    "\n",
    "\n",
    "\n",
    "def feature(d):\n",
    "    feat = [0]*len(mostCommon1000words)\n",
    "    r = ''.join([c for c in d['text'].lower() if not c in punctuation])\n",
    "    for w in r.split():\n",
    "        if w in mostCommon1000words:\n",
    "            feat[wordId[w]] += 1\n",
    "    feat.append(1) #offset\n",
    "    return feat"
   ]
  },
  {
   "cell_type": "code",
   "execution_count": 47,
   "metadata": {},
   "outputs": [],
   "source": [
    "#(for reference) almost two minutes to run\n",
    "Xtrain = [feature(d) for d in train]\n",
    "Xlil = lil_matrix(Xtrain)\n",
    "ytrain =  [d['genreID'] for d in train]"
   ]
  },
  {
   "cell_type": "code",
   "execution_count": null,
   "metadata": {},
   "outputs": [],
   "source": []
  },
  {
   "cell_type": "code",
   "execution_count": 48,
   "metadata": {},
   "outputs": [],
   "source": [
    "from sklearn.linear_model import LogisticRegression"
   ]
  },
  {
   "cell_type": "code",
   "execution_count": 49,
   "metadata": {},
   "outputs": [
    {
     "data": {
      "text/plain": [
       "LogisticRegression(max_iter=2000)"
      ]
     },
     "execution_count": 49,
     "metadata": {},
     "output_type": "execute_result"
    }
   ],
   "source": [
    "clf = LogisticRegression(max_iter = 2000)\n",
    "clf.fit(Xlil,ytrain)"
   ]
  },
  {
   "cell_type": "code",
   "execution_count": 50,
   "metadata": {},
   "outputs": [],
   "source": [
    "Xvalid = [feature(d) for d in validation]"
   ]
  },
  {
   "cell_type": "code",
   "execution_count": 51,
   "metadata": {},
   "outputs": [],
   "source": [
    "pred = clf.predict(Xvalid)"
   ]
  },
  {
   "cell_type": "code",
   "execution_count": 52,
   "metadata": {},
   "outputs": [
    {
     "name": "stdout",
     "output_type": "stream",
     "text": [
      "accuracy:  0.6723\n"
     ]
    }
   ],
   "source": [
    "correct = pred == yvalid\n",
    "print(\"accuracy: \", sum(correct) / len(correct))"
   ]
  },
  {
   "cell_type": "markdown",
   "metadata": {},
   "source": [
    "#### Task 8"
   ]
  },
  {
   "cell_type": "markdown",
   "metadata": {},
   "source": [
    "#### observation: as dict size increases so does accuracy, the classifier ending up improving by .05% accuracy\n",
    "#### unfortunately due to time concerns and nearing the homework deadline I didn't get to test dictionary sizes > 5000\n",
    "#### I only tested sizes 500, 800, 1000, 2000, 3000, 4000, and 5000 for c values [10**-2, .1,1,10,100], and found that a c value of 1 usually results in the highest accuracy\n",
    "#### i will use a dictionary size of 5000 and C value of 1 in the improved classifier"
   ]
  },
  {
   "cell_type": "code",
   "execution_count": 53,
   "metadata": {},
   "outputs": [],
   "source": [
    "mostCommon5000_wf = sorted(wordFreq.items(),key=lambda v: v[1] / totalCount,reverse=True)[:5000]\n",
    "mostCommon5000words = [w for w,f in mostCommon5000_wf]\n",
    "wordId = dict(zip(mostCommon5000words, range(len(mostCommon5000words))))\n",
    "wordSet = set(mostCommon5000words)"
   ]
  },
  {
   "cell_type": "code",
   "execution_count": 54,
   "metadata": {},
   "outputs": [],
   "source": [
    "\n",
    "def feature(d):\n",
    "    feat = [0]*len(mostCommon5000words)\n",
    "    r = ''.join([c for c in d['text'].lower() if not c in punctuation])\n",
    "    for w in r.split():\n",
    "        if w in mostCommon5000words:\n",
    "            feat[wordId[w]] += 1\n",
    "    feat.append(1) #offset\n",
    "    return feat\n"
   ]
  },
  {
   "cell_type": "code",
   "execution_count": 55,
   "metadata": {},
   "outputs": [],
   "source": [
    "Xtrain = [feature(d) for d in train]\n",
    "Xlil = lil_matrix(Xtrain)\n",
    "ytrain =  [d['genreID'] for d in train]\n",
    "Xvalid = [feature(d) for d in validation]"
   ]
  },
  {
   "cell_type": "code",
   "execution_count": 56,
   "metadata": {},
   "outputs": [],
   "source": [
    "clf = LogisticRegression(max_iter = 8000)\n",
    "clf.fit(Xlil,ytrain)\n",
    "pred = clf.predict(Xvalid)"
   ]
  },
  {
   "cell_type": "code",
   "execution_count": 57,
   "metadata": {},
   "outputs": [
    {
     "name": "stdout",
     "output_type": "stream",
     "text": [
      "accuracy:  0.7294\n"
     ]
    }
   ],
   "source": [
    "correct = pred == yvalid\n",
    "print(\"accuracy: \", sum(correct) / len(correct))"
   ]
  },
  {
   "cell_type": "code",
   "execution_count": null,
   "metadata": {},
   "outputs": [],
   "source": []
  },
  {
   "cell_type": "code",
   "execution_count": 58,
   "metadata": {},
   "outputs": [],
   "source": [
    "### Category prediction baseline: Just consider some of the most common words from each category\n",
    "\n",
    "catDict = {\n",
    "  \"Action\": 0,\n",
    "  \"Strategy\": 1,\n",
    "  \"RPG\": 2,\n",
    "  \"Adventure\": 3,\n",
    "  \"Sport\": 4\n",
    "}\n",
    "\n",
    "predictions = open(\"predictions_Category.txt\", 'w')\n",
    "predictions.write(\"userID-reviewID,prediction\\n\")\n",
    "for u,_,d in readJSON(\"data/test_Category.json.gz\"):\n",
    "    cat = clf.predict([feature(d)])\n",
    "    predictions.write(u + '-' + d['reviewID'] + \",\" + str(cat[0]) + \"\\n\")\n",
    "\n",
    "predictions.close()"
   ]
  },
  {
   "cell_type": "code",
   "execution_count": null,
   "metadata": {},
   "outputs": [],
   "source": [
    "# C = [.1,1,10,100]\n",
    "# ps =[]\n",
    "# for c in C:\n",
    "#     clf = LogisticRegression(max_iter = 8000, C = c)\n",
    "#     clf.fit(Xlil,ytrain)\n",
    "#     pred = clf.predict(Xvalid)\n",
    "#     ps.append(pred)\n",
    "    "
   ]
  },
  {
   "cell_type": "code",
   "execution_count": null,
   "metadata": {},
   "outputs": [],
   "source": [
    "# correct = pred == yvalid\n",
    "# print(\"accuracy: \", sum(correct) / len(correct))"
   ]
  },
  {
   "cell_type": "code",
   "execution_count": null,
   "metadata": {},
   "outputs": [],
   "source": [
    "# acc_list =[]\n",
    "# for p in ps:\n",
    "#     correct = p == yvalid\n",
    "#     acc_list.append(sum(correct)/len(correct))"
   ]
  },
  {
   "cell_type": "code",
   "execution_count": null,
   "metadata": {},
   "outputs": [],
   "source": [
    "#dict size 2000\n",
    "#max_iter = 6000\n",
    "#C = [10**-2,.1,1,10,100]\n",
    "# acc_list  = [0.6886, 0.7003, 0.7017, 0.7015, 0.7011]"
   ]
  },
  {
   "cell_type": "code",
   "execution_count": null,
   "metadata": {},
   "outputs": [],
   "source": [
    "#dict size 3000\n",
    "#max_iter = 6000\n",
    "#C = [.1,1,10,100]\n",
    "# acc_list = [0.7116, 0.7146, 0.713, 0.7128]"
   ]
  },
  {
   "cell_type": "code",
   "execution_count": null,
   "metadata": {},
   "outputs": [],
   "source": [
    "#dict size 5000\n",
    "#max_iter = 6000\n",
    "#C = [.1,1,10,100]\n",
    "# acc_list = [0.7277, 0.7294, 0.7282, 0.7274]"
   ]
  },
  {
   "cell_type": "code",
   "execution_count": null,
   "metadata": {},
   "outputs": [],
   "source": []
  }
 ],
 "metadata": {
  "kernelspec": {
   "display_name": "Python 3",
   "language": "python",
   "name": "python3"
  },
  "language_info": {
   "codemirror_mode": {
    "name": "ipython",
    "version": 3
   },
   "file_extension": ".py",
   "mimetype": "text/x-python",
   "name": "python",
   "nbconvert_exporter": "python",
   "pygments_lexer": "ipython3",
   "version": "3.8.3"
  }
 },
 "nbformat": 4,
 "nbformat_minor": 4
}
