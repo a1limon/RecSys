{
 "cells": [
  {
   "cell_type": "code",
   "execution_count": 1,
   "metadata": {},
   "outputs": [],
   "source": [
    "import numpy as np\n",
    "from urllib.request import urlopen\n",
    "import scipy.optimize\n",
    "import random\n",
    "from sklearn.decomposition import PCA\n",
    "from collections import defaultdict\n",
    "from sklearn.linear_model import LogisticRegression\n",
    "from sklearn.metrics import accuracy_score\n",
    "from sklearn.metrics import mean_squared_error as MSE\n",
    "from sklearn.linear_model import RidgeClassifier\n",
    "import pandas as pd"
   ]
  },
  {
   "cell_type": "code",
   "execution_count": 2,
   "metadata": {},
   "outputs": [
    {
     "name": "stdout",
     "output_type": "stream",
     "text": [
      "Reading data...\n",
      "done\n"
     ]
    }
   ],
   "source": [
    "def parseDataFromURL(fname):\n",
    "  for l in urlopen(fname):\n",
    "    yield eval(l)\n",
    "\n",
    "def parseData(fname):\n",
    "  for l in open(fname):\n",
    "    yield eval(l)\n",
    "\n",
    "print(\"Reading data...\")\n",
    "# Download from http://jmcauley.ucsd.edu/cse255/data/beer/beer_50000.json\"\n",
    "data = list(parseData(\"data/beer_50000.json\"))\n",
    "print(\"done\")"
   ]
  },
  {
   "cell_type": "code",
   "execution_count": null,
   "metadata": {},
   "outputs": [],
   "source": []
  },
  {
   "cell_type": "code",
   "execution_count": null,
   "metadata": {},
   "outputs": [],
   "source": []
  },
  {
   "cell_type": "code",
   "execution_count": 3,
   "metadata": {},
   "outputs": [],
   "source": [
    "#select data \n",
    "categoryCounts = defaultdict(int)\n",
    "for d in data:\n",
    "    categoryCounts[d[\"beer/style\"]] += 1\n",
    "\n",
    "categories = [c for c in categoryCounts if categoryCounts[c] > 1000]\n",
    "catID = dict(zip(list(categories),range(len(categories))))"
   ]
  },
  {
   "cell_type": "code",
   "execution_count": 4,
   "metadata": {},
   "outputs": [
    {
     "data": {
      "text/plain": [
       "{'American Double / Imperial IPA': 0,\n",
       " 'Rauchbier': 1,\n",
       " 'American Pale Ale (APA)': 2,\n",
       " 'American Porter': 3,\n",
       " 'Russian Imperial Stout': 4,\n",
       " 'American IPA': 5,\n",
       " 'Fruit / Vegetable Beer': 6,\n",
       " 'American Double / Imperial Stout': 7,\n",
       " 'Rye Beer': 8,\n",
       " 'Scotch Ale / Wee Heavy': 9,\n",
       " 'English Pale Ale': 10,\n",
       " 'Czech Pilsener': 11,\n",
       " 'Old Ale': 12}"
      ]
     },
     "execution_count": 4,
     "metadata": {},
     "output_type": "execute_result"
    }
   ],
   "source": [
    "catID"
   ]
  },
  {
   "cell_type": "code",
   "execution_count": null,
   "metadata": {},
   "outputs": [],
   "source": []
  },
  {
   "cell_type": "code",
   "execution_count": null,
   "metadata": {},
   "outputs": [],
   "source": []
  },
  {
   "cell_type": "code",
   "execution_count": 5,
   "metadata": {},
   "outputs": [],
   "source": [
    "idx = catID.values()\n",
    "ohe = np.array(np.eye(max(idx) +1).astype(int))\n"
   ]
  },
  {
   "cell_type": "code",
   "execution_count": 6,
   "metadata": {},
   "outputs": [],
   "source": [
    "ohe_map = dict(zip(list(categories),ohe))"
   ]
  },
  {
   "cell_type": "code",
   "execution_count": 7,
   "metadata": {
    "scrolled": true
   },
   "outputs": [
    {
     "data": {
      "text/plain": [
       "{'American Double / Imperial IPA': array([1, 0, 0, 0, 0, 0, 0, 0, 0, 0, 0, 0, 0]),\n",
       " 'Rauchbier': array([0, 1, 0, 0, 0, 0, 0, 0, 0, 0, 0, 0, 0]),\n",
       " 'American Pale Ale (APA)': array([0, 0, 1, 0, 0, 0, 0, 0, 0, 0, 0, 0, 0]),\n",
       " 'American Porter': array([0, 0, 0, 1, 0, 0, 0, 0, 0, 0, 0, 0, 0]),\n",
       " 'Russian Imperial Stout': array([0, 0, 0, 0, 1, 0, 0, 0, 0, 0, 0, 0, 0]),\n",
       " 'American IPA': array([0, 0, 0, 0, 0, 1, 0, 0, 0, 0, 0, 0, 0]),\n",
       " 'Fruit / Vegetable Beer': array([0, 0, 0, 0, 0, 0, 1, 0, 0, 0, 0, 0, 0]),\n",
       " 'American Double / Imperial Stout': array([0, 0, 0, 0, 0, 0, 0, 1, 0, 0, 0, 0, 0]),\n",
       " 'Rye Beer': array([0, 0, 0, 0, 0, 0, 0, 0, 1, 0, 0, 0, 0]),\n",
       " 'Scotch Ale / Wee Heavy': array([0, 0, 0, 0, 0, 0, 0, 0, 0, 1, 0, 0, 0]),\n",
       " 'English Pale Ale': array([0, 0, 0, 0, 0, 0, 0, 0, 0, 0, 1, 0, 0]),\n",
       " 'Czech Pilsener': array([0, 0, 0, 0, 0, 0, 0, 0, 0, 0, 0, 1, 0]),\n",
       " 'Old Ale': array([0, 0, 0, 0, 0, 0, 0, 0, 0, 0, 0, 0, 1])}"
      ]
     },
     "execution_count": 7,
     "metadata": {},
     "output_type": "execute_result"
    }
   ],
   "source": [
    "ohe_map"
   ]
  },
  {
   "cell_type": "code",
   "execution_count": null,
   "metadata": {},
   "outputs": [],
   "source": []
  },
  {
   "cell_type": "code",
   "execution_count": null,
   "metadata": {},
   "outputs": [],
   "source": []
  },
  {
   "cell_type": "code",
   "execution_count": null,
   "metadata": {},
   "outputs": [],
   "source": []
  },
  {
   "cell_type": "code",
   "execution_count": null,
   "metadata": {},
   "outputs": [],
   "source": []
  },
  {
   "cell_type": "code",
   "execution_count": 8,
   "metadata": {},
   "outputs": [],
   "source": [
    "for d in data:\n",
    "    if d['beer/style'] in categories:\n",
    "        d['beer/style'] = ohe_map[d['beer/style']]\n",
    "    else:\n",
    "        d['beer/style'] = np.array([0, 0, 0, 0, 0, 0, 0, 0, 0, 0, 0, 0, 0])"
   ]
  },
  {
   "cell_type": "code",
   "execution_count": null,
   "metadata": {},
   "outputs": [],
   "source": []
  },
  {
   "cell_type": "code",
   "execution_count": null,
   "metadata": {},
   "outputs": [],
   "source": []
  },
  {
   "cell_type": "code",
   "execution_count": 9,
   "metadata": {
    "scrolled": true
   },
   "outputs": [],
   "source": [
    "x = np.array([d['beer/style'] for d in data])"
   ]
  },
  {
   "cell_type": "code",
   "execution_count": null,
   "metadata": {},
   "outputs": [],
   "source": []
  },
  {
   "cell_type": "code",
   "execution_count": 10,
   "metadata": {},
   "outputs": [
    {
     "data": {
      "text/plain": [
       "array([[1.],\n",
       "       [1.],\n",
       "       [1.],\n",
       "       ...,\n",
       "       [1.],\n",
       "       [1.],\n",
       "       [1.]])"
      ]
     },
     "execution_count": 10,
     "metadata": {},
     "output_type": "execute_result"
    }
   ],
   "source": [
    "ones = np.ones((len(x),1))\n",
    "ones"
   ]
  },
  {
   "cell_type": "code",
   "execution_count": 11,
   "metadata": {},
   "outputs": [
    {
     "data": {
      "text/plain": [
       "array([[1.        , 0.        , 0.        , ..., 1.5       , 2.        ,\n",
       "        0.05549672],\n",
       "       [1.        , 0.        , 0.        , ..., 3.        , 2.5       ,\n",
       "        0.071595  ],\n",
       "       [1.        , 0.        , 0.        , ..., 3.        , 2.5       ,\n",
       "        0.08388053],\n",
       "       ...,\n",
       "       [1.        , 0.        , 0.        , ..., 3.5       , 3.5       ,\n",
       "        0.13577632],\n",
       "       [1.        , 0.        , 0.        , ..., 4.        , 4.        ,\n",
       "        0.20800678],\n",
       "       [1.        , 0.        , 0.        , ..., 4.5       , 4.        ,\n",
       "        0.09510697]])"
      ]
     },
     "execution_count": 11,
     "metadata": {},
     "output_type": "execute_result"
    }
   ],
   "source": [
    "X = np.hstack([ones,x])\n",
    "x_1 = [[d['review/appearance'],d['review/palate'], \\\n",
    "       d['review/taste'],d['review/overall'],d['review/aroma']] for d in data]\n",
    "\n",
    "x_2 = [len(d['review/text']) for d in data]\n",
    "x_2 = x_2 / max(np.array(x_2))\n",
    "x_2 = np.reshape(x_2,(-1,1))\n",
    "\n",
    "X = np.hstack([X,x_1])\n",
    "X = np.hstack([X,x_2])\n",
    "X\n"
   ]
  },
  {
   "cell_type": "code",
   "execution_count": null,
   "metadata": {},
   "outputs": [],
   "source": []
  },
  {
   "cell_type": "code",
   "execution_count": 12,
   "metadata": {},
   "outputs": [],
   "source": [
    "y = [d['beer/ABV'] > 7.0 for d in data]"
   ]
  },
  {
   "cell_type": "code",
   "execution_count": null,
   "metadata": {},
   "outputs": [],
   "source": []
  },
  {
   "cell_type": "code",
   "execution_count": 13,
   "metadata": {},
   "outputs": [],
   "source": [
    "#shuffle data\n",
    "Xy = list(zip(X,y))\n",
    "random.shuffle(Xy)\n",
    "X = np.array([d[0] for d in Xy])\n",
    "y = np.array([d[1] for d in Xy])"
   ]
  },
  {
   "cell_type": "code",
   "execution_count": null,
   "metadata": {},
   "outputs": [],
   "source": []
  },
  {
   "cell_type": "code",
   "execution_count": 14,
   "metadata": {},
   "outputs": [],
   "source": [
    "Xtrain = X[:len(x)//2]\n",
    "Xtest = X[len(x)//2:]\n",
    "\n",
    "ytrain = y[:len(x)//2]\n",
    "ytest = y[len(x)//2:]"
   ]
  },
  {
   "cell_type": "code",
   "execution_count": null,
   "metadata": {},
   "outputs": [],
   "source": []
  },
  {
   "cell_type": "markdown",
   "metadata": {},
   "source": [
    "## 1) Train a logistic regressor using this one-hot encoding to predict whether beers have an ABV greater than 7 percent (i.e., d[’beer/ABV’] > 7). Train the classifier on the training set and report its performance in terms of the accuracy and Balanced Error Rate (BER) on the test set, using a regularization constant of C = 10. For all experiments use the class weight=’balanced’ option (2 marks)."
   ]
  },
  {
   "cell_type": "code",
   "execution_count": 15,
   "metadata": {},
   "outputs": [
    {
     "name": "stdout",
     "output_type": "stream",
     "text": [
      "balanced error rate:  0.16068652372986186\n",
      "accuracy:  0.84876\n"
     ]
    }
   ],
   "source": [
    "logreg = LogisticRegression(C=10, class_weight = 'balanced').fit(Xtrain[:,:14],ytrain)\n",
    "pred = logreg.predict(Xtest[:,:14])\n",
    "\n",
    "\n",
    "TP_ = np.logical_and(pred, ytest)\n",
    "FP_ = np.logical_and(pred, np.logical_not(ytest))\n",
    "TN_ = np.logical_and(np.logical_not(pred), np.logical_not(ytest))\n",
    "FN_ = np.logical_and(np.logical_not(pred), ytest)\n",
    "\n",
    "TP = sum(TP_)\n",
    "FP = sum(FP_)\n",
    "TN = sum(TN_)\n",
    "FN = sum(FN_)\n",
    "FPR = FP/(FP+TN)\n",
    "FNR = FN/(FN+TP)\n",
    "print(\"balanced error rate: \", (1/2)*(FPR+FNR))\n",
    "print('accuracy: ', accuracy_score(ytest, pred))"
   ]
  },
  {
   "cell_type": "code",
   "execution_count": null,
   "metadata": {},
   "outputs": [],
   "source": []
  },
  {
   "cell_type": "markdown",
   "metadata": {},
   "source": [
    "## 2) Extend your model to include two additional features: (1) a vector of five ratings (review/aroma,review/overall, etc.); and (2) the review length (in characters). The length feature should be scaled to be between 0 and 1 by dividing by the maximum length. Using the same value of C from the previous question, report the BER of the new classifier (1 mark)."
   ]
  },
  {
   "cell_type": "code",
   "execution_count": 16,
   "metadata": {},
   "outputs": [
    {
     "name": "stdout",
     "output_type": "stream",
     "text": [
      "balanced error rate:  0.14223937720215946\n",
      "accuracy:  0.8626\n"
     ]
    }
   ],
   "source": [
    "logreg = LogisticRegression(C=10, class_weight = 'balanced', max_iter = 460).fit(Xtrain,ytrain)\n",
    "pred = logreg.predict(Xtest)\n",
    "\n",
    "\n",
    "TP_ = np.logical_and(pred, ytest)\n",
    "FP_ = np.logical_and(pred, np.logical_not(ytest))\n",
    "TN_ = np.logical_and(np.logical_not(pred), np.logical_not(ytest))\n",
    "FN_ = np.logical_and(np.logical_not(pred), ytest)\n",
    "\n",
    "TP = sum(TP_)\n",
    "FP = sum(FP_)\n",
    "TN = sum(TN_)\n",
    "FN = sum(FN_)\n",
    "FPR = FP/(FP+TN)\n",
    "FNR = FN/(FN+TP)\n",
    "print(\"balanced error rate: \", (1/2)*(FPR+FNR))\n",
    "print('accuracy: ', accuracy_score(ytest, pred))"
   ]
  },
  {
   "cell_type": "markdown",
   "metadata": {},
   "source": [
    "## 3) Implement a complete regularization pipeline with the balanced classifier. Split your test data from above in half so that you have 50%/25%/25% train/validation/test fractions. Consider values of C in the range{10^−6, 10^−5 , 10^−4, 10^−3}. Report (or plot) the train, validation, and test BER for each value of C. Based on these values, which classifier would you select (in terms of generalization performance) and why (1 mark)?"
   ]
  },
  {
   "cell_type": "code",
   "execution_count": null,
   "metadata": {},
   "outputs": [],
   "source": []
  },
  {
   "cell_type": "code",
   "execution_count": 17,
   "metadata": {},
   "outputs": [],
   "source": [
    "def mse(model, X, y):\n",
    "    preds = model.predict(X)\n",
    "    diffs = [(float(a)-float(b))**2 for (a,b) in zip(preds,y)]\n",
    "    return sum(diffs) / len(diffs)\n",
    "    "
   ]
  },
  {
   "cell_type": "code",
   "execution_count": 18,
   "metadata": {},
   "outputs": [],
   "source": [
    "N = len(y)\n",
    "Ntrain = N//2\n",
    "Nvalid = N//4\n",
    "Ntest = N//4\n",
    "\n",
    "Xtrain = X[:Ntrain]\n",
    "Xvalid = X[Ntrain:Ntrain+Nvalid]\n",
    "Xtest = X[Ntrain+Nvalid:]\n",
    "\n",
    "ytrain = y[:Ntrain]\n",
    "yvalid = y[Ntrain:Ntrain+Nvalid]\n",
    "ytest = y[Ntrain+Nvalid:]"
   ]
  },
  {
   "cell_type": "code",
   "execution_count": 19,
   "metadata": {},
   "outputs": [
    {
     "name": "stdout",
     "output_type": "stream",
     "text": [
      "mse train/validation: 0.3216 0.32384\n",
      "C value:  1e-06\n",
      "train BER:  0.3167114713429558\n",
      "valid BER:  0.3203850384473046\n",
      "test BER:  0.31577497649604813\n",
      "\n",
      "\n",
      "mse train/validation: 0.3198 0.32184\n",
      "C value:  1e-05\n",
      "train BER:  0.314951238004041\n",
      "valid BER:  0.31842232410872157\n",
      "test BER:  0.3145511464911047\n",
      "\n",
      "\n",
      "mse train/validation: 0.29728 0.30072\n",
      "C value:  0.0001\n",
      "train BER:  0.29315496535476443\n",
      "valid BER:  0.29805167770056334\n",
      "test BER:  0.2905913557276848\n",
      "\n",
      "\n",
      "mse train/validation: 0.19412 0.19136\n",
      "C value:  0.001\n",
      "train BER:  0.19575385402175077\n",
      "valid BER:  0.19330076277807476\n",
      "test BER:  0.18964224229757196\n",
      "\n",
      "\n"
     ]
    }
   ],
   "source": [
    "    \n",
    "C = [10**-6,10**-5,10**-4,10**-3]\n",
    "bestModel = None\n",
    "bestMSE = None\n",
    "for c in C:\n",
    "    model = LogisticRegression(C = c, class_weight = 'balanced').fit(Xtrain, ytrain)\n",
    "    preds = [model.predict(Xtrain), model.predict(Xvalid), model.predict(Xtest)]\n",
    "    ys = [ytrain, yvalid, ytest]\n",
    "    \n",
    "    mse_tr = mse(model, Xtrain, ytrain)\n",
    "    mse_v = mse(model, Xvalid, yvalid)\n",
    "    print(\"mse train/validation: \" + str(mse_tr),str(mse_v))\n",
    "    \n",
    "    print(\"C value: \", str(c))\n",
    "    \n",
    "    titles = [\"train BER: \", \"valid BER: \", \"test BER: \"]   \n",
    "    for m in range(len(preds)):\n",
    "        TP_ = np.logical_and(preds[m], ys[m])\n",
    "        FP_ = np.logical_and(preds[m], np.logical_not(ys[m]))\n",
    "        TN_ = np.logical_and(np.logical_not(preds[m]), np.logical_not(ys[m]))\n",
    "        FN_ = np.logical_and(np.logical_not(preds[m]), ys[m])\n",
    "\n",
    "        TP = sum(TP_)\n",
    "        FP = sum(FP_)\n",
    "        TN = sum(TN_)\n",
    "        FN = sum(FN_)\n",
    "        FPR = FP/(FP+TN)\n",
    "        FNR = FN/(FN+TP)\n",
    "        print(titles[m], (1/2)*(FPR+FNR))\n",
    "    print(\"\\n\")\n",
    "\n",
    "    if not bestModel or mse_v < bestMSE:\n",
    "        bestModel = model\n",
    "        bestMSE = (mse_v)\n",
    "    \n",
    "    "
   ]
  },
  {
   "cell_type": "markdown",
   "metadata": {},
   "source": [
    "### I would select the classifier with C value of .001, based on the lowest validation MSE and lowest  test BER"
   ]
  },
  {
   "cell_type": "code",
   "execution_count": 20,
   "metadata": {},
   "outputs": [
    {
     "data": {
      "text/plain": [
       "LogisticRegression(C=0.001, class_weight='balanced')"
      ]
     },
     "execution_count": 20,
     "metadata": {},
     "output_type": "execute_result"
    }
   ],
   "source": [
    "bestModel"
   ]
  },
  {
   "cell_type": "code",
   "execution_count": 21,
   "metadata": {},
   "outputs": [
    {
     "data": {
      "text/plain": [
       "0.19136"
      ]
     },
     "execution_count": 21,
     "metadata": {},
     "output_type": "execute_result"
    }
   ],
   "source": [
    "bestMSE"
   ]
  },
  {
   "cell_type": "markdown",
   "metadata": {},
   "source": [
    "## 4) (CSE158 only) An ablation study measures the marginal benefit of various features by re-training the model with one feature ‘ablated’ (i.e., deleted) at a time. Considering each of the three features in your classifier above (i.e., beer style, ratings, and length), report the BER with only the other two features and the third deleted (1 mark)."
   ]
  },
  {
   "cell_type": "code",
   "execution_count": 22,
   "metadata": {},
   "outputs": [
    {
     "name": "stdout",
     "output_type": "stream",
     "text": [
      "C value:  1e-06\n",
      "training balanced error rate: (ohe styles and ratings) 0.31654486428633577\n",
      "validation balanced error rate: (ohe styles and ratings) 0.31945649492166617\n",
      "test balanced error rate: (ohe styles and ratings) 0.315453673566917\n",
      "\n",
      "\n",
      "training balanced error rate: (ratings and review length) 0.3402036260149308\n",
      "validation balanced error rate: (ratings and review length) 0.34117176898721163\n",
      "test balanced error rate: (ratings and review length) 0.33679075848465934\n",
      "\n",
      "\n",
      "training balanced error rate: (ohe styles and review length) 0.26728720943897877\n",
      "validation balanced error rate: (ohe styles and review length) 0.2675420967145031\n",
      "test balanced error rate: (ohe styles and review length) 0.2668961129439944\n",
      "\n",
      "\n",
      "\n",
      "\n",
      "C value:  1e-05\n",
      "training balanced error rate: (ohe styles and ratings) 0.3153848550956065\n",
      "validation balanced error rate: (ohe styles and ratings) 0.3184022780541963\n",
      "test balanced error rate: (ohe styles and ratings) 0.3147117979556703\n",
      "\n",
      "\n",
      "training balanced error rate: (ratings and review length) 0.33924707969313833\n",
      "validation balanced error rate: (ratings and review length) 0.3409358423454912\n",
      "test balanced error rate: (ratings and review length) 0.3362474223793813\n",
      "\n",
      "\n",
      "training balanced error rate: (ohe styles and review length) 0.16274811347004606\n",
      "validation balanced error rate: (ohe styles and review length) 0.15988861589703524\n",
      "test balanced error rate: (ohe styles and review length) 0.16148495006798255\n",
      "\n",
      "\n",
      "\n",
      "\n",
      "C value:  0.0001\n",
      "training balanced error rate: (ohe styles and ratings) 0.2931954044604063\n",
      "validation balanced error rate: (ohe styles and ratings) 0.2981570479871705\n",
      "test balanced error rate: (ohe styles and ratings) 0.29076223747751395\n",
      "\n",
      "\n",
      "training balanced error rate: (ratings and review length) 0.33476255914717773\n",
      "validation balanced error rate: (ratings and review length) 0.3388675007196019\n",
      "test balanced error rate: (ratings and review length) 0.3314922932536461\n",
      "\n",
      "\n",
      "training balanced error rate: (ohe styles and review length) 0.16274811347004606\n",
      "validation balanced error rate: (ohe styles and review length) 0.15988861589703524\n",
      "test balanced error rate: (ohe styles and review length) 0.16148495006798255\n",
      "\n",
      "\n",
      "\n",
      "\n",
      "C value:  0.001\n",
      "training balanced error rate: (ohe styles and ratings) 0.19617014006804112\n",
      "validation balanced error rate: (ohe styles and ratings) 0.19406379785353017\n",
      "test balanced error rate: (ohe styles and ratings) 0.18983718321073442\n",
      "\n",
      "\n",
      "training balanced error rate: (ratings and review length) 0.31866571074436545\n",
      "validation balanced error rate: (ratings and review length) 0.32467515111641104\n",
      "test balanced error rate: (ratings and review length) 0.3212216009337423\n",
      "\n",
      "\n",
      "training balanced error rate: (ohe styles and review length) 0.16274811347004606\n",
      "validation balanced error rate: (ohe styles and review length) 0.15988861589703524\n",
      "test balanced error rate: (ohe styles and review length) 0.16148495006798255\n",
      "\n",
      "\n",
      "\n",
      "\n"
     ]
    }
   ],
   "source": [
    "C = [10**-6,10**-5,10**-4,10**-3]\n",
    "Xtrain_ = np.hstack([Xtrain[:,:14],Xtrain[:,-1:]])\n",
    "Xtest_ = np.hstack([Xtest[:,:14],Xtest[:,-1:]])\n",
    "Xvalid_ = np.hstack([Xvalid[:,:14],Xvalid[:,-1:]])\n",
    "\n",
    "toFitX = [Xtrain[:,:-1],\n",
    "          Xtrain[:,-6:],\n",
    "          Xtrain_]\n",
    "\n",
    "toPredTr = [Xtrain[:,:-1],Xtrain[:,-6:],Xtrain_ ]\n",
    "toPredV = [Xvalid[:,:-1],Xvalid[:,-6:], Xvalid_]\n",
    "toPredT = [Xtest[:,:-1],Xtest[:,-6:],Xtest_ ]\n",
    "\n",
    "ablations = [\"(ohe styles and ratings)\", \"(ratings and review length)\", \"(ohe styles and review length)\"]\n",
    "\n",
    "for c in C:\n",
    "    print(\"C value: \", c)\n",
    "    for i in range(len(toFitX)):\n",
    "        logreg = LogisticRegression(C=c, class_weight = 'balanced', max_iter = 400).fit(toFitX[i],ytrain)\n",
    "        trpred = logreg.predict(toPredTr[i])\n",
    "        vpred = logreg.predict(toPredV[i])\n",
    "        pred = logreg.predict(toPredT[i])\n",
    "\n",
    "        \n",
    "        \n",
    "        TP_ = np.logical_and(trpred, ytrain)\n",
    "        FP_ = np.logical_and(trpred, np.logical_not(ytrain))\n",
    "        TN_ = np.logical_and(np.logical_not(trpred), np.logical_not(ytrain))\n",
    "        FN_ = np.logical_and(np.logical_not(trpred), ytrain)\n",
    "\n",
    "        TP = sum(TP_)\n",
    "        FP = sum(FP_)\n",
    "        TN = sum(TN_)\n",
    "        FN = sum(FN_)\n",
    "        FPR = FP/(FP+TN)\n",
    "        FNR = FN/(FN+TP)\n",
    "        print(\"training balanced error rate: \" + ablations[i], (1/2)*(FPR+FNR))\n",
    "        \n",
    "        TP_ = np.logical_and(vpred, yvalid)\n",
    "        FP_ = np.logical_and(vpred, np.logical_not(yvalid))\n",
    "        TN_ = np.logical_and(np.logical_not(vpred), np.logical_not(yvalid))\n",
    "        FN_ = np.logical_and(np.logical_not(vpred), yvalid)\n",
    "\n",
    "        TP = sum(TP_)\n",
    "        FP = sum(FP_)\n",
    "        TN = sum(TN_)\n",
    "        FN = sum(FN_)\n",
    "        FPR = FP/(FP+TN)\n",
    "        FNR = FN/(FN+TP)\n",
    "        print(\"validation balanced error rate: \" + ablations[i], (1/2)*(FPR+FNR))\n",
    "\n",
    "        TP_ = np.logical_and(pred, ytest)\n",
    "        FP_ = np.logical_and(pred, np.logical_not(ytest))\n",
    "        TN_ = np.logical_and(np.logical_not(pred), np.logical_not(ytest))\n",
    "        FN_ = np.logical_and(np.logical_not(pred), ytest)\n",
    "\n",
    "        TP = sum(TP_)\n",
    "        FP = sum(FP_)\n",
    "        TN = sum(TN_)\n",
    "        FN = sum(FN_)\n",
    "        FPR = FP/(FP+TN)\n",
    "        FNR = FN/(FN+TP)\n",
    "        print(\"test balanced error rate: \" + ablations[i], (1/2)*(FPR+FNR))\n",
    "        print(\"\\n\")\n",
    "    print(\"\\n\")\n",
    "        \n",
    "    "
   ]
  },
  {
   "cell_type": "code",
   "execution_count": null,
   "metadata": {
    "scrolled": true
   },
   "outputs": [],
   "source": []
  },
  {
   "cell_type": "code",
   "execution_count": null,
   "metadata": {},
   "outputs": [],
   "source": []
  },
  {
   "cell_type": "code",
   "execution_count": null,
   "metadata": {},
   "outputs": [],
   "source": [
    "\n"
   ]
  },
  {
   "cell_type": "code",
   "execution_count": null,
   "metadata": {},
   "outputs": [],
   "source": []
  },
  {
   "cell_type": "markdown",
   "metadata": {},
   "source": [
    "# Tasks (Community Detection)"
   ]
  },
  {
   "cell_type": "code",
   "execution_count": 23,
   "metadata": {},
   "outputs": [],
   "source": [
    "import networkx as nx\n",
    "import matplotlib.pyplot as plt\n",
    "from urllib.request import urlopen"
   ]
  },
  {
   "cell_type": "code",
   "execution_count": 24,
   "metadata": {},
   "outputs": [
    {
     "data": {
      "image/png": "[encoded data removed]",
      "text/plain": [
       "<Figure size 432x288 with 1 Axes>"
      ]
     },
     "metadata": {},
     "output_type": "display_data"
    },
    {
     "data": {
      "text/plain": [
       "<Figure size 432x288 with 0 Axes>"
      ]
     },
     "metadata": {},
     "output_type": "display_data"
    },
    {
     "data": {
      "image/png": "[encoded data removed]",
      "text/plain": [
       "<Figure size 504x720 with 1 Axes>"
      ]
     },
     "metadata": {},
     "output_type": "display_data"
    },
    {
     "data": {
      "text/plain": [
       "<Figure size 432x288 with 0 Axes>"
      ]
     },
     "metadata": {},
     "output_type": "display_data"
    }
   ],
   "source": [
    "# Karate club\n",
    "G = nx.karate_club_graph()\n",
    "nx.draw(G, with_labels = True)\n",
    "plt.show()\n",
    "plt.clf()\n",
    "\n",
    "edges = set()\n",
    "nodes = set()\n",
    "for edge in urlopen(\"http://cseweb.ucsd.edu/classes/fa19/cse258-a/data/egonet.txt\"):\n",
    "    x,y = edge.split()\n",
    "    x,y = int(x),int(y)\n",
    "    edges.add((x,y))\n",
    "    edges.add((y,x))\n",
    "    nodes.add(x)\n",
    "    nodes.add(y)\n",
    "\n",
    "G = nx.Graph()\n",
    "plt.figure(figsize=(7,10)) \n",
    "for e in edges:\n",
    "    G.add_edge(e[0],e[1])\n",
    "nx.draw(G,with_labels = True)\n",
    "plt.show()\n",
    "plt.clf()"
   ]
  },
  {
   "cell_type": "markdown",
   "metadata": {},
   "source": [
    "## 6) How many connected components are in the graph, and how many nodes are in the largest connected component (1 mark)? Next we’ll implement a ‘greedy’ version of normalized cuts, using just the largest connected component found above. First, split it into two equal halves, just by taking the 50% of nodes with the lowest and 50% with the highest IDs."
   ]
  },
  {
   "cell_type": "markdown",
   "metadata": {},
   "source": [
    "### There are 3 connected components and 40 nodes in the largest connected component"
   ]
  },
  {
   "cell_type": "code",
   "execution_count": null,
   "metadata": {},
   "outputs": [],
   "source": []
  },
  {
   "cell_type": "code",
   "execution_count": 25,
   "metadata": {},
   "outputs": [
    {
     "name": "stdout",
     "output_type": "stream",
     "text": [
      "3\n",
      "40\n"
     ]
    }
   ],
   "source": [
    "num_cc = len(list(nx.connected_components(G)))\n",
    "print(num_cc)\n",
    "print(len(max(list(nx.connected_components(G)))))"
   ]
  },
  {
   "cell_type": "code",
   "execution_count": 26,
   "metadata": {},
   "outputs": [],
   "source": [
    "max_cc = max(list(nx.connected_components(G)))"
   ]
  },
  {
   "cell_type": "code",
   "execution_count": 27,
   "metadata": {},
   "outputs": [
    {
     "data": {
      "image/png": "[encoded data removed]",
      "text/plain": [
       "<Figure size 432x288 with 1 Axes>"
      ]
     },
     "metadata": {},
     "output_type": "display_data"
    }
   ],
   "source": [
    "nx.draw(G.subgraph(max_cc), with_labels = True)\n",
    "plt.title(\"largest connected component\")\n",
    "plt.show()"
   ]
  },
  {
   "cell_type": "code",
   "execution_count": 28,
   "metadata": {},
   "outputs": [],
   "source": [
    "nodes_max_cc = max(list(nx.connected_components(G)))\n",
    "lows, highs = sorted(nodes_max_cc)[:len(nodes_max_cc)//2],sorted(nodes_max_cc)[len(nodes_max_cc)//2:]\n",
    "lows = set(lows)\n",
    "highs = set(highs)"
   ]
  },
  {
   "cell_type": "markdown",
   "metadata": {},
   "source": [
    "## 7) What is the normalized-cut cost of the 50/50 split you found above (1 mark)? Now we’ll implement our greedy algorithm as follows: during each step, we’ll move one node from one cluster to the other, choosing whichever move minimizes the resulting normalized cut cost (in case of a tie, pick the node with the lower ID). Repeat this until the cost can’t be reduced any further."
   ]
  },
  {
   "cell_type": "code",
   "execution_count": 29,
   "metadata": {},
   "outputs": [
    {
     "data": {
      "text/plain": [
       "92"
      ]
     },
     "execution_count": 29,
     "metadata": {},
     "output_type": "execute_result"
    }
   ],
   "source": [
    "#number of edges between low cluster and high cluster\n",
    "def edges_across_cut(graph, set1, set2):\n",
    "    return len(list(nx.edge_boundary(graph,set1,set2)))\n",
    "\n",
    "edges_across_cut(G.subgraph(max_cc), lows, highs)"
   ]
  },
  {
   "cell_type": "code",
   "execution_count": 30,
   "metadata": {},
   "outputs": [
    {
     "data": {
      "text/plain": [
       "DegreeView({856: 29, 893: 3, 753: 11, 889: 12, 719: 16, 747: 21, 708: 17, 697: 17, 800: 16, 830: 14, 745: 11, 805: 16, 774: 17, 804: 11, 729: 11, 890: 6, 769: 12, 823: 18, 828: 19, 882: 7, 886: 7, 861: 9, 863: 10, 810: 10, 803: 3, 840: 13, 713: 15, 819: 15, 888: 8, 878: 9, 811: 7, 876: 10, 869: 6, 772: 7, 703: 8, 864: 4, 880: 7, 884: 3, 798: 1, 825: 4})"
      ]
     },
     "execution_count": 30,
     "metadata": {},
     "output_type": "execute_result"
    }
   ],
   "source": [
    "G.subgraph(max_cc).degree()"
   ]
  },
  {
   "cell_type": "code",
   "execution_count": 31,
   "metadata": {},
   "outputs": [
    {
     "name": "stdout",
     "output_type": "stream",
     "text": [
      "normalized 50/50 split cost: \n"
     ]
    },
    {
     "data": {
      "text/plain": [
       "0.42240587695133147"
      ]
     },
     "execution_count": 31,
     "metadata": {},
     "output_type": "execute_result"
    }
   ],
   "source": [
    "nodes_max_cc = max(list(nx.connected_components(G)))\n",
    "lows, highs = sorted(nodes_max_cc)[:len(nodes_max_cc)//2],sorted(nodes_max_cc)[len(nodes_max_cc)//2:]\n",
    "lows = set(lows)\n",
    "highs = set(highs)\n",
    "\n",
    "def calc_norm_cut_cost(lows, highs):\n",
    "    #calcs number of edges across cut\n",
    "    num_edges = edges_across_cut(G.subgraph(max_cc), lows, highs)\n",
    "    #calcs sum of degrees in each cluster\n",
    "    total_low = sum([G.subgraph(max_cc).degree[v] for v in lows])\n",
    "    total_high = sum([G.subgraph(max_cc).degree[v] for v in highs])\n",
    "    cost = (1/2)*((num_edges/total_high) + (num_edges/total_low))\n",
    "    return cost\n",
    "\n",
    "print(\"normalized 50/50 split cost: \")\n",
    "calc_norm_cut_cost(lows, highs)"
   ]
  },
  {
   "cell_type": "code",
   "execution_count": 32,
   "metadata": {},
   "outputs": [],
   "source": [
    "#from piazza:\n",
    "#Q8 understanding\n",
    "# So if we have nodes [1,2,3,4,5,6] and after question 7 we have our splits: [1,2,3] and [4,5,6]\n",
    "\n",
    "# Would the algorithm be finding splits:\n",
    "\n",
    "# [1,2]/[3,4,5,6],     [1,3]/[2,4,5,6],       [2,3]/[1,4,5,6],     [1,2,3,4]/[5,6],     [1,2,3,5]/[4,6],     [1,2,3,4,6]/[4,5]\n",
    "\n",
    "# And then finding the minimum normalized cut cost?\n",
    "\n",
    "# And if [1,2]/[3,4,5,6] was the optimal one, would we proceed like:\n",
    "\n",
    "# [1],[2,3,4,5,6],    [2]/[1,3,4,5,6],    [1,2,3]/[4,5,6]    [1,2,4]/[3,5,6],     [1,2,5]/[3,4,6],     [1,2,6]/[3,4,5] ?"
   ]
  },
  {
   "cell_type": "code",
   "execution_count": 33,
   "metadata": {},
   "outputs": [],
   "source": [
    "def greedy(graph, set1, set2):\n",
    "    min_cost = np.inf\n",
    "    results1 = {}\n",
    "#     results2 = {}\n",
    "    \n",
    "#     cluster1_2 = set1.copy()\n",
    "#     cluster2_2 = set2.copy()\n",
    "    \n",
    "    for node in set1:\n",
    "        #Create copies to check for every possible combination\n",
    "        cluster1 = set1.copy()\n",
    "        cluster2 = set2.copy()\n",
    "        #move one node from one to the other\n",
    "        cluster1.remove(node)\n",
    "        cluster2.add(node)\n",
    "        #calc normalized cut cost\n",
    "        cost = calc_norm_cut_cost(cluster1, cluster2)\n",
    "        #add node that minimizes cost to outcome dictionary\n",
    "        if cost < min_cost:\n",
    "            min_cost = cost\n",
    "            min_node = node\n",
    "            results1[min_cost] = min_node\n",
    "        elif cost == min_cost:\n",
    "            if node < min_node:\n",
    "                min_cost = cost\n",
    "                min_node = node\n",
    "                results1[min_cost] = min_node\n",
    "       \n",
    "    \n",
    "#     for node in set2:\n",
    "#         #Create copies\n",
    "#         cluster1 = set1.copy()\n",
    "#         cluster2 = set2.copy()\n",
    "#          #move one node from one to the other\n",
    "#         cluster2.remove(node)\n",
    "#         cluster1.add(node)\n",
    "#         #calc normalized cut cost\n",
    "#         cost = calc_norm_cut_cost(cluster1, cluster2)\n",
    "#         if cost < min_cost:\n",
    "#             min_cost = cost\n",
    "#             min_node = node\n",
    "#             results2[min_cost] = min_node\n",
    "#         elif cost == min_cost:\n",
    "#             if node < min_node:\n",
    "#                 min_cost = cost\n",
    "#                 min_node = node\n",
    "#                 results2[min_cost] = min_node\n",
    "\n",
    "    out = {v:k for k, v in sorted(results1.items(), key=lambda item: item[0])}\n",
    "            \n",
    "        \n",
    "                \n",
    "        \n",
    "        \n",
    "    return list(out.items())[0]"
   ]
  },
  {
   "cell_type": "code",
   "execution_count": 34,
   "metadata": {},
   "outputs": [
    {
     "data": {
      "text/plain": [
       "(729, 0.3873319662793347)"
      ]
     },
     "execution_count": 34,
     "metadata": {},
     "output_type": "execute_result"
    }
   ],
   "source": [
    "greedy(G.subgraph(max_cc),lows,highs)"
   ]
  },
  {
   "cell_type": "code",
   "execution_count": 35,
   "metadata": {},
   "outputs": [
    {
     "name": "stdout",
     "output_type": "stream",
     "text": [
      "test1: this is working\n",
      "test: reachable statement:\n",
      "test1: this is working\n",
      "test: reachable statement:\n",
      "test2: this is working\n",
      "test: reachable statement:\n",
      "test2: this is working\n",
      "test: reachable statement:\n",
      "test2: this is working\n",
      "test: reachable statement:\n",
      "test2: this is working\n",
      "test: reachable statement:\n",
      "test2: this is working\n",
      "test: reachable statement:\n",
      "test2: this is working\n",
      "test: reachable statement:\n",
      "test2: this is working\n",
      "test: reachable statement:\n",
      "test2: this is working\n",
      "test: reachable statement:\n",
      "elements of resulting split: \n",
      "split1:  {769, 772, 774, 798, 800, 803, 805, 810, 811, 819, 823, 697, 828, 830, 703, 708, 840, 713, 719, 856, 869, 745, 747, 880, 753, 890}\n",
      "split12:  {804, 825, 729, 861, 863, 864, 876, 878, 882, 884, 886, 888, 889, 893}\n",
      "normalized cut cost:  0.09817045961624274\n"
     ]
    }
   ],
   "source": [
    "nodes_max_cc = max(list(nx.connected_components(G)))\n",
    "lows, highs = sorted(nodes_max_cc)[:len(nodes_max_cc)//2],sorted(nodes_max_cc)[len(nodes_max_cc)//2:]\n",
    "lows = set(lows)\n",
    "highs = set(highs)\n",
    "\n",
    "\n",
    "while True:\n",
    "    prev_cost = calc_norm_cut_cost(lows, highs)\n",
    "    #move from set1 to set2\n",
    "    node1, node1_cost = greedy(G.subgraph(max_cc),lows,highs)\n",
    "    #move from set2 to set1\n",
    "    node2, node2_cost = greedy(G.subgraph(max_cc),highs,lows)\n",
    "    #if node cost from cluster 1 to cluster 2 is less than cost from cluster 2 to cluster 1\n",
    "    #then move node, vice versa\n",
    "    if node1_cost < node2_cost and node1_cost < prev_cost:\n",
    "        min_node = node1\n",
    "        min_cost = node1_cost\n",
    "        lows.remove(min_node)\n",
    "        highs.add(min_node)\n",
    "        print(\"test1: this is working\")\n",
    "    elif node2_cost < node1_cost and node2_cost < prev_cost:\n",
    "        min_node = node2\n",
    "        min_cost = node2_cost\n",
    "        highs.remove(min_node)\n",
    "        lows.add(min_node)\n",
    "        print(\"test2: this is working\")\n",
    "    #if tie, pick node with lower id\n",
    "    elif node1_cost == node2_cost:\n",
    "        if node1 < node2:\n",
    "            lows.remove(node1)\n",
    "            highs.add(node1)\n",
    "            min_cost = node1_cost\n",
    "            print(\"test3: this is working\")\n",
    "        else:\n",
    "            highs.remove(node2)\n",
    "            lows.add(node2)\n",
    "            min_cost = node2_cost\n",
    "            print(\"test4: this is working\")\n",
    "    else: break\n",
    "    print(\"test: reachable statement:\")\n",
    "        \n",
    "        \n",
    "\n",
    "print(\"elements of resulting split: \") \n",
    "print(\"split1: \", lows)\n",
    "print(\"split12: \", highs)\n",
    "print(\"normalized cut cost: \",  calc_norm_cut_cost(lows, highs))"
   ]
  },
  {
   "cell_type": "code",
   "execution_count": null,
   "metadata": {},
   "outputs": [],
   "source": []
  },
  {
   "cell_type": "code",
   "execution_count": null,
   "metadata": {},
   "outputs": [],
   "source": []
  },
  {
   "cell_type": "code",
   "execution_count": null,
   "metadata": {},
   "outputs": [],
   "source": []
  },
  {
   "cell_type": "code",
   "execution_count": null,
   "metadata": {},
   "outputs": [],
   "source": []
  },
  {
   "cell_type": "code",
   "execution_count": null,
   "metadata": {},
   "outputs": [],
   "source": []
  },
  {
   "cell_type": "code",
   "execution_count": null,
   "metadata": {},
   "outputs": [],
   "source": []
  },
  {
   "cell_type": "code",
   "execution_count": null,
   "metadata": {},
   "outputs": [],
   "source": []
  },
  {
   "cell_type": "code",
   "execution_count": null,
   "metadata": {},
   "outputs": [],
   "source": []
  },
  {
   "cell_type": "code",
   "execution_count": null,
   "metadata": {},
   "outputs": [],
   "source": []
  }
 ],
 "metadata": {
  "kernelspec": {
   "display_name": "Python 3",
   "language": "python",
   "name": "python3"
  },
  "language_info": {
   "codemirror_mode": {
    "name": "ipython",
    "version": 3
   },
   "file_extension": ".py",
   "mimetype": "text/x-python",
   "name": "python",
   "nbconvert_exporter": "python",
   "pygments_lexer": "ipython3",
   "version": "3.8.3"
  }
 },
 "nbformat": 4,
 "nbformat_minor": 4
}
